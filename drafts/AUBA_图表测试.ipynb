{
 "cells": [
  {
   "cell_type": "markdown",
   "metadata": {},
   "source": [
    "## Data Information"
   ]
  },
  {
   "cell_type": "markdown",
   "metadata": {},
   "source": [
    "Data have 5 columns and more than 100 million rows. There are about 1 million users whoes user behaviors including click, purchase, adding item to shopping cart and item favoring during November 25 to December 03, 2017. Each line represents a specific user-item interaction, which consists of user ID, item ID, item's category ID, behavior type and timestamp, separated by commas."
   ]
  },
  {
   "cell_type": "code",
   "execution_count": null,
   "metadata": {},
   "outputs": [],
   "source": [
    "# Modules imported\n",
    "import pandas as pd\n",
    "import numpy as np\n",
    "import matplotlib as plt"
   ]
  },
  {
   "cell_type": "code",
   "execution_count": null,
   "metadata": {},
   "outputs": [],
   "source": [
    "data = pd.read_csv('/Users/paxton615/Downloads/UserBehavior.csv')"
   ]
  },
  {
   "cell_type": "code",
   "execution_count": null,
   "metadata": {},
   "outputs": [],
   "source": [
    "data.shape"
   ]
  },
  {
   "cell_type": "code",
   "execution_count": null,
   "metadata": {},
   "outputs": [],
   "source": [
    "data.isnull().sum()"
   ]
  },
  {
   "cell_type": "code",
   "execution_count": null,
   "metadata": {},
   "outputs": [],
   "source": [
    "data.nunique() # take 2-3 minutes to complete, be cautious to run this line"
   ]
  },
  {
   "cell_type": "code",
   "execution_count": null,
   "metadata": {},
   "outputs": [],
   "source": [
    "data.head()"
   ]
  },
  {
   "cell_type": "code",
   "execution_count": null,
   "metadata": {},
   "outputs": [],
   "source": [
    "# col names = ['user_id', 'item_id','category_id','status',\"timestamp\"]\n",
    "# pv: page view, buy: buy, cart: cart:, fav:favorite\n",
    "data.columns = ['user_id', 'item_id','category_id','status',\"timestamp\"]"
   ]
  },
  {
   "cell_type": "markdown",
   "metadata": {},
   "source": [
    "Trying some concert code here：\n",
    "\n",
    "fun = data.head()\n",
    "fun\n",
    "\n",
    "str(pd.Timestamp(fun['timestamp'][0], unit='s'))[:10] \n",
    "\n",
    "convert str to timestamp\n",
    "str(pd.Timestamp('2017-11-11').year)+'-'+str(pd.Timestamp('2017-11-11').month)\n",
    "\n",
    "pd.Timestamp(fun['timestamp'][0], unit='s').hour\n",
    "\n",
    "pd.Timestamp(fun['timestamp'][0], unit='s').month\n",
    "\n",
    "It worked!"
   ]
  },
  {
   "cell_type": "code",
   "execution_count": null,
   "metadata": {},
   "outputs": [],
   "source": [
    "# select 3 million for analysis, calling them 'users'\n",
    "users = data.iloc[5000000:8000000,:]"
   ]
  },
  {
   "cell_type": "code",
   "execution_count": null,
   "metadata": {},
   "outputs": [],
   "source": [
    "users.shape"
   ]
  },
  {
   "cell_type": "code",
   "execution_count": null,
   "metadata": {},
   "outputs": [],
   "source": [
    "users.reset_index(drop=True, inplace=True)"
   ]
  },
  {
   "cell_type": "code",
   "execution_count": null,
   "metadata": {},
   "outputs": [],
   "source": [
    "users.head()"
   ]
  },
  {
   "cell_type": "code",
   "execution_count": null,
   "metadata": {},
   "outputs": [],
   "source": [
    "users.nunique()"
   ]
  },
  {
   "cell_type": "code",
   "execution_count": null,
   "metadata": {},
   "outputs": [],
   "source": [
    "# How much does ths sample, users, represent the population.\n",
    "total_nuni = ['1 987994','2268318 4162024','2520377 9439','pv 4','1511544070 815859']\n",
    "\n",
    "pop_unq = [int(i.split(' ')[1]) for i in total_nuni]\n",
    "pop_unq\n",
    "\n",
    "sample_unq = [i for i in users.nunique()]\n",
    "sample_unq\n",
    "\n",
    "perctage = []\n",
    "for i,j in zip(sample_unq,pop_unq):\n",
    "    perctage.append('{:2%}'.format(i/j))\n",
    "\n",
    "# the subset, users, contains 3% of total users,\n",
    "# 19% of total items, 73% of categories\n",
    "perctage"
   ]
  },
  {
   "cell_type": "code",
   "execution_count": null,
   "metadata": {},
   "outputs": [],
   "source": [
    "users['hour']=[pd.Timestamp(i, unit='s',tz='Asia/Shanghai').hour for i in users.timestamp]\n",
    "\n",
    "users['year']=[pd.Timestamp(i, unit='s',tz='Asia/Shanghai').year for i in users.timestamp]\n",
    "\n",
    "users['day']=[pd.Timestamp(i, unit='s',tz='Asia/Shanghai').day for i in users.timestamp]\n",
    "\n",
    "users['month']=[pd.Timestamp(i, unit='s',tz='Asia/Shanghai').month for i in users.timestamp]\n",
    "# 0 is Monday，6 is Sunday\n",
    "users['dayofweek']=[pd.Timestamp(i, unit='s',tz='Asia/Shanghai').dayofweek for i in users.timestamp]"
   ]
  },
  {
   "cell_type": "code",
   "execution_count": null,
   "metadata": {},
   "outputs": [],
   "source": [
    "users.year.unique() # data were generated during 2017-11-25 to 2017-12-3\n",
    "# 2020,1919,2021 need to be found and cleaned later!"
   ]
  },
  {
   "cell_type": "code",
   "execution_count": null,
   "metadata": {
    "scrolled": true
   },
   "outputs": [],
   "source": [
    "users[(users['year']==1919)| (users['year']==2021)|(users['year']==2020)].count()"
   ]
  },
  {
   "cell_type": "code",
   "execution_count": null,
   "metadata": {},
   "outputs": [],
   "source": [
    "users = users[users['year']==2017] # only choose 2017 data"
   ]
  },
  {
   "cell_type": "code",
   "execution_count": null,
   "metadata": {},
   "outputs": [],
   "source": [
    "np.sort(users.hour.unique()) # hours seem normal"
   ]
  },
  {
   "cell_type": "code",
   "execution_count": null,
   "metadata": {},
   "outputs": [],
   "source": [
    "users.day.unique() \n",
    "# keep the days within 11.25-12.3"
   ]
  },
  {
   "cell_type": "code",
   "execution_count": null,
   "metadata": {},
   "outputs": [],
   "source": [
    "users = users[users['day'].isin([25,26,27,28,29,30,1,2,3])] "
   ]
  },
  {
   "cell_type": "code",
   "execution_count": null,
   "metadata": {},
   "outputs": [],
   "source": [
    "users.month.unique()\n",
    "# data happened during 2017.11-2017.12, some months need to be cleaned"
   ]
  },
  {
   "cell_type": "code",
   "execution_count": null,
   "metadata": {},
   "outputs": [],
   "source": [
    "users[(users['month']==10)| (users['month']==4)|(users['month']==9)|(users['month']==5)|(users['month']==8)].count()\n"
   ]
  },
  {
   "cell_type": "code",
   "execution_count": null,
   "metadata": {},
   "outputs": [],
   "source": [
    "users = users[users['month'].isin([11,12])]"
   ]
  },
  {
   "cell_type": "code",
   "execution_count": null,
   "metadata": {},
   "outputs": [],
   "source": [
    "users.shape"
   ]
  },
  {
   "cell_type": "code",
   "execution_count": null,
   "metadata": {
    "scrolled": false
   },
   "outputs": [],
   "source": [
    "users.head() "
   ]
  },
  {
   "cell_type": "code",
   "execution_count": null,
   "metadata": {},
   "outputs": [],
   "source": [
    "users.to_csv(r'/Users/paxton615/Github_Personal/Alibaba_UserBehavior_Analysis/drafts/users_3m.csv')"
   ]
  },
  {
   "cell_type": "code",
   "execution_count": null,
   "metadata": {},
   "outputs": [],
   "source": [
    "# dropduplicstes: same user,same day, same hour, viewed the same item \n",
    "users = users.drop_duplicates(subset=['user_id','item_id','status','hour','day'])\n"
   ]
  },
  {
   "cell_type": "code",
   "execution_count": null,
   "metadata": {},
   "outputs": [],
   "source": [
    "users.shape"
   ]
  },
  {
   "cell_type": "code",
   "execution_count": null,
   "metadata": {},
   "outputs": [],
   "source": [
    "users.head()"
   ]
  },
  {
   "cell_type": "code",
   "execution_count": null,
   "metadata": {},
   "outputs": [],
   "source": [
    "# Form user['date'] by using year, month, day\n",
    "date = []\n",
    "for i,j,k in zip(users['year'], users['month'], users['day']):\n",
    "    date.append(str(i)+\"-\"+str(j)+\"-\"+str(k))\n",
    "\n",
    "users['date']=pd.to_datetime(date)\n",
    "\n",
    "users.head()"
   ]
  },
  {
   "cell_type": "code",
   "execution_count": null,
   "metadata": {},
   "outputs": [],
   "source": [
    "# tidy cols and reset_index\n",
    "users = users[['user_id', 'item_id' , 'category_id', 'status', 'date','dayofweek' ,'hour']]\n",
    "users.reset_index(drop=True, inplace=True)"
   ]
  },
  {
   "cell_type": "code",
   "execution_count": null,
   "metadata": {},
   "outputs": [],
   "source": [
    "users.dtypes\n",
    "# Could convert hour to datetime as well, however, don't see the need yet\n",
    "# pd.to_datetime(users['hour'], format='%H')"
   ]
  },
  {
   "cell_type": "code",
   "execution_count": null,
   "metadata": {},
   "outputs": [],
   "source": [
    "users.head()"
   ]
  },
  {
   "cell_type": "code",
   "execution_count": null,
   "metadata": {},
   "outputs": [],
   "source": [
    "users.to_csv(r'/Users/paxton615/Github_Personal/Alibaba_UserBehavior_Analysis/drafts/users_2m.csv')"
   ]
  },
  {
   "cell_type": "markdown",
   "metadata": {},
   "source": [
    "# Saved , 2.7m entries."
   ]
  },
  {
   "cell_type": "code",
   "execution_count": 1,
   "metadata": {},
   "outputs": [],
   "source": [
    "# Modules imported\n",
    "import pandas as pd\n",
    "import numpy as np\n",
    "import matplotlib as plt"
   ]
  },
  {
   "cell_type": "code",
   "execution_count": 2,
   "metadata": {},
   "outputs": [],
   "source": [
    "users = pd.read_csv('/Users/paxton615/Github_Personal/Alibaba_UserBehavior_Analysis/drafts/users_2m.csv')\n"
   ]
  },
  {
   "cell_type": "code",
   "execution_count": 3,
   "metadata": {},
   "outputs": [
    {
     "data": {
      "text/html": [
       "<div>\n",
       "<style scoped>\n",
       "    .dataframe tbody tr th:only-of-type {\n",
       "        vertical-align: middle;\n",
       "    }\n",
       "\n",
       "    .dataframe tbody tr th {\n",
       "        vertical-align: top;\n",
       "    }\n",
       "\n",
       "    .dataframe thead th {\n",
       "        text-align: right;\n",
       "    }\n",
       "</style>\n",
       "<table border=\"1\" class=\"dataframe\">\n",
       "  <thead>\n",
       "    <tr style=\"text-align: right;\">\n",
       "      <th></th>\n",
       "      <th>Unnamed: 0</th>\n",
       "      <th>user_id</th>\n",
       "      <th>item_id</th>\n",
       "      <th>category_id</th>\n",
       "      <th>status</th>\n",
       "      <th>date</th>\n",
       "      <th>dayofweek</th>\n",
       "      <th>hour</th>\n",
       "    </tr>\n",
       "  </thead>\n",
       "  <tbody>\n",
       "    <tr>\n",
       "      <th>0</th>\n",
       "      <td>0</td>\n",
       "      <td>309818</td>\n",
       "      <td>4710383</td>\n",
       "      <td>1792277</td>\n",
       "      <td>pv</td>\n",
       "      <td>2017-11-29</td>\n",
       "      <td>2</td>\n",
       "      <td>20</td>\n",
       "    </tr>\n",
       "    <tr>\n",
       "      <th>1</th>\n",
       "      <td>1</td>\n",
       "      <td>309818</td>\n",
       "      <td>1421743</td>\n",
       "      <td>4069500</td>\n",
       "      <td>pv</td>\n",
       "      <td>2017-11-29</td>\n",
       "      <td>2</td>\n",
       "      <td>20</td>\n",
       "    </tr>\n",
       "    <tr>\n",
       "      <th>2</th>\n",
       "      <td>2</td>\n",
       "      <td>309818</td>\n",
       "      <td>800137</td>\n",
       "      <td>1216617</td>\n",
       "      <td>pv</td>\n",
       "      <td>2017-11-29</td>\n",
       "      <td>2</td>\n",
       "      <td>20</td>\n",
       "    </tr>\n",
       "    <tr>\n",
       "      <th>3</th>\n",
       "      <td>3</td>\n",
       "      <td>309818</td>\n",
       "      <td>2493122</td>\n",
       "      <td>1216617</td>\n",
       "      <td>pv</td>\n",
       "      <td>2017-11-29</td>\n",
       "      <td>2</td>\n",
       "      <td>20</td>\n",
       "    </tr>\n",
       "    <tr>\n",
       "      <th>4</th>\n",
       "      <td>4</td>\n",
       "      <td>309818</td>\n",
       "      <td>1461532</td>\n",
       "      <td>3102419</td>\n",
       "      <td>pv</td>\n",
       "      <td>2017-11-30</td>\n",
       "      <td>3</td>\n",
       "      <td>7</td>\n",
       "    </tr>\n",
       "  </tbody>\n",
       "</table>\n",
       "</div>"
      ],
      "text/plain": [
       "   Unnamed: 0  user_id  item_id  category_id status        date  dayofweek  \\\n",
       "0           0   309818  4710383      1792277     pv  2017-11-29          2   \n",
       "1           1   309818  1421743      4069500     pv  2017-11-29          2   \n",
       "2           2   309818   800137      1216617     pv  2017-11-29          2   \n",
       "3           3   309818  2493122      1216617     pv  2017-11-29          2   \n",
       "4           4   309818  1461532      3102419     pv  2017-11-30          3   \n",
       "\n",
       "   hour  \n",
       "0    20  \n",
       "1    20  \n",
       "2    20  \n",
       "3    20  \n",
       "4     7  "
      ]
     },
     "execution_count": 3,
     "metadata": {},
     "output_type": "execute_result"
    }
   ],
   "source": [
    "users.head()"
   ]
  },
  {
   "cell_type": "code",
   "execution_count": 4,
   "metadata": {},
   "outputs": [],
   "source": [
    "users.drop('Unnamed: 0', axis=1, inplace=True)"
   ]
  },
  {
   "cell_type": "code",
   "execution_count": 5,
   "metadata": {},
   "outputs": [
    {
     "data": {
      "text/html": [
       "<div>\n",
       "<style scoped>\n",
       "    .dataframe tbody tr th:only-of-type {\n",
       "        vertical-align: middle;\n",
       "    }\n",
       "\n",
       "    .dataframe tbody tr th {\n",
       "        vertical-align: top;\n",
       "    }\n",
       "\n",
       "    .dataframe thead th {\n",
       "        text-align: right;\n",
       "    }\n",
       "</style>\n",
       "<table border=\"1\" class=\"dataframe\">\n",
       "  <thead>\n",
       "    <tr style=\"text-align: right;\">\n",
       "      <th></th>\n",
       "      <th>user_id</th>\n",
       "      <th>item_id</th>\n",
       "      <th>category_id</th>\n",
       "      <th>status</th>\n",
       "      <th>date</th>\n",
       "      <th>dayofweek</th>\n",
       "      <th>hour</th>\n",
       "    </tr>\n",
       "  </thead>\n",
       "  <tbody>\n",
       "    <tr>\n",
       "      <th>0</th>\n",
       "      <td>309818</td>\n",
       "      <td>4710383</td>\n",
       "      <td>1792277</td>\n",
       "      <td>pv</td>\n",
       "      <td>2017-11-29</td>\n",
       "      <td>2</td>\n",
       "      <td>20</td>\n",
       "    </tr>\n",
       "    <tr>\n",
       "      <th>1</th>\n",
       "      <td>309818</td>\n",
       "      <td>1421743</td>\n",
       "      <td>4069500</td>\n",
       "      <td>pv</td>\n",
       "      <td>2017-11-29</td>\n",
       "      <td>2</td>\n",
       "      <td>20</td>\n",
       "    </tr>\n",
       "    <tr>\n",
       "      <th>2</th>\n",
       "      <td>309818</td>\n",
       "      <td>800137</td>\n",
       "      <td>1216617</td>\n",
       "      <td>pv</td>\n",
       "      <td>2017-11-29</td>\n",
       "      <td>2</td>\n",
       "      <td>20</td>\n",
       "    </tr>\n",
       "    <tr>\n",
       "      <th>3</th>\n",
       "      <td>309818</td>\n",
       "      <td>2493122</td>\n",
       "      <td>1216617</td>\n",
       "      <td>pv</td>\n",
       "      <td>2017-11-29</td>\n",
       "      <td>2</td>\n",
       "      <td>20</td>\n",
       "    </tr>\n",
       "    <tr>\n",
       "      <th>4</th>\n",
       "      <td>309818</td>\n",
       "      <td>1461532</td>\n",
       "      <td>3102419</td>\n",
       "      <td>pv</td>\n",
       "      <td>2017-11-30</td>\n",
       "      <td>3</td>\n",
       "      <td>7</td>\n",
       "    </tr>\n",
       "  </tbody>\n",
       "</table>\n",
       "</div>"
      ],
      "text/plain": [
       "   user_id  item_id  category_id status        date  dayofweek  hour\n",
       "0   309818  4710383      1792277     pv  2017-11-29          2    20\n",
       "1   309818  1421743      4069500     pv  2017-11-29          2    20\n",
       "2   309818   800137      1216617     pv  2017-11-29          2    20\n",
       "3   309818  2493122      1216617     pv  2017-11-29          2    20\n",
       "4   309818  1461532      3102419     pv  2017-11-30          3     7"
      ]
     },
     "execution_count": 5,
     "metadata": {},
     "output_type": "execute_result"
    }
   ],
   "source": [
    "users.head()"
   ]
  },
  {
   "cell_type": "markdown",
   "metadata": {},
   "source": [
    "# 用户使用行为的漏斗模型"
   ]
  },
  {
   "cell_type": "markdown",
   "metadata": {},
   "source": [
    "分析用户使用行为的漏斗模型，AARRR模型分析用户行为，此处数据主要涉及用户刺激和购买转化环节。\n",
    "通过用户从浏览到最终购买过程的流失情况，包括浏览，收藏，加入购物车和购买。在本例中，各项指标如下:"
   ]
  },
  {
   "cell_type": "code",
   "execution_count": 6,
   "metadata": {},
   "outputs": [
    {
     "data": {
      "text/plain": [
       "user_id         29233\n",
       "item_id        805830\n",
       "category_id      6910\n",
       "status              4\n",
       "date                9\n",
       "dayofweek           7\n",
       "hour               24\n",
       "dtype: int64"
      ]
     },
     "execution_count": 6,
     "metadata": {},
     "output_type": "execute_result"
    }
   ],
   "source": [
    "# 访问用户总数 （UV）:29233\n",
    "users.nunique()"
   ]
  },
  {
   "cell_type": "code",
   "execution_count": 7,
   "metadata": {},
   "outputs": [
    {
     "data": {
      "text/plain": [
       "status\n",
       "buy       58537\n",
       "cart     167988\n",
       "fav       86553\n",
       "pv      2435888\n",
       "Name: user_id, dtype: int64"
      ]
     },
     "execution_count": 7,
     "metadata": {},
     "output_type": "execute_result"
    }
   ],
   "source": [
    "# 页面总访问量 （PV）：2406344\n",
    "users.groupby('status')['user_id'].count()"
   ]
  },
  {
   "cell_type": "markdown",
   "metadata": {},
   "source": [
    "平均每人每周访问量"
   ]
  },
  {
   "cell_type": "code",
   "execution_count": 8,
   "metadata": {},
   "outputs": [
    {
     "data": {
      "text/plain": [
       "'83.33'"
      ]
     },
     "execution_count": 8,
     "metadata": {},
     "output_type": "execute_result"
    }
   ],
   "source": [
    "# Average PV per week per person\n",
    "avg_pv = users.groupby('status')['user_id'].count().pv / users.user_id.nunique()\n",
    "'{:.4}'.format(avg_pv)"
   ]
  },
  {
   "cell_type": "code",
   "execution_count": 9,
   "metadata": {},
   "outputs": [
    {
     "data": {
      "text/html": [
       "<div>\n",
       "<style scoped>\n",
       "    .dataframe tbody tr th:only-of-type {\n",
       "        vertical-align: middle;\n",
       "    }\n",
       "\n",
       "    .dataframe tbody tr th {\n",
       "        vertical-align: top;\n",
       "    }\n",
       "\n",
       "    .dataframe thead th {\n",
       "        text-align: right;\n",
       "    }\n",
       "</style>\n",
       "<table border=\"1\" class=\"dataframe\">\n",
       "  <thead>\n",
       "    <tr style=\"text-align: right;\">\n",
       "      <th></th>\n",
       "      <th>pv</th>\n",
       "    </tr>\n",
       "    <tr>\n",
       "      <th>user_id</th>\n",
       "      <th></th>\n",
       "    </tr>\n",
       "  </thead>\n",
       "  <tbody>\n",
       "    <tr>\n",
       "      <th>34</th>\n",
       "      <td>32</td>\n",
       "    </tr>\n",
       "    <tr>\n",
       "      <th>42</th>\n",
       "      <td>50</td>\n",
       "    </tr>\n",
       "    <tr>\n",
       "      <th>43</th>\n",
       "      <td>119</td>\n",
       "    </tr>\n",
       "    <tr>\n",
       "      <th>310</th>\n",
       "      <td>69</td>\n",
       "    </tr>\n",
       "    <tr>\n",
       "      <th>311</th>\n",
       "      <td>34</td>\n",
       "    </tr>\n",
       "  </tbody>\n",
       "</table>\n",
       "</div>"
      ],
      "text/plain": [
       "          pv\n",
       "user_id     \n",
       "34        32\n",
       "42        50\n",
       "43       119\n",
       "310       69\n",
       "311       34"
      ]
     },
     "execution_count": 9,
     "metadata": {},
     "output_type": "execute_result"
    }
   ],
   "source": [
    "# 每个用户的pv数量是多少？逻辑：相当于通过按user_id来groupby，统计大类（status）中某个小类（pv）的数量\n",
    "# 很重要的groupby应用实例，filter之后再做groupby\n",
    "# 很重要，很重要\n",
    "user_pv = pd.DataFrame(users[users['status']=='pv'].groupby(users['user_id'],as_index=True)[['status']].count())\n",
    "user_pv.columns=['pv']\n",
    "user_pv.head()"
   ]
  },
  {
   "cell_type": "code",
   "execution_count": 10,
   "metadata": {
    "scrolled": false
   },
   "outputs": [],
   "source": [
    "user_pv.hist();"
   ]
  },
  {
   "cell_type": "code",
   "execution_count": 11,
   "metadata": {},
   "outputs": [
    {
     "data": {
      "image/png": "[encoded data removed]",
      "text/plain": [
       "<Figure size 432x288 with 1 Axes>"
      ]
     },
     "metadata": {
      "needs_background": "light"
     },
     "output_type": "display_data"
    }
   ],
   "source": [
    "user_pv[user_pv['pv']<300].hist();"
   ]
  },
  {
   "cell_type": "code",
   "execution_count": 12,
   "metadata": {
    "scrolled": true
   },
   "outputs": [
    {
     "data": {
      "image/png": "[encoded data removed]",
      "text/plain": [
       "<Figure size 432x288 with 1 Axes>"
      ]
     },
     "metadata": {
      "needs_background": "light"
     },
     "output_type": "display_data"
    }
   ],
   "source": [
    "user_pv[user_pv['pv']<100].hist();"
   ]
  },
  {
   "cell_type": "code",
   "execution_count": 13,
   "metadata": {
    "scrolled": true
   },
   "outputs": [
    {
     "data": {
      "image/png": "[encoded data removed]",
      "text/plain": [
       "<Figure size 432x288 with 1 Axes>"
      ]
     },
     "metadata": {
      "needs_background": "light"
     },
     "output_type": "display_data"
    }
   ],
   "source": [
    "user_pv[user_pv['pv']<50].hist();"
   ]
  },
  {
   "cell_type": "code",
   "execution_count": 14,
   "metadata": {},
   "outputs": [
    {
     "data": {
      "text/plain": [
       "[32, 34, 24, 20, 6, 23, 49, 43]"
      ]
     },
     "execution_count": 14,
     "metadata": {},
     "output_type": "execute_result"
    }
   ],
   "source": [
    "[32,34,24,20,6,23,49,43]"
   ]
  },
  {
   "cell_type": "code",
   "execution_count": 15,
   "metadata": {
    "scrolled": false
   },
   "outputs": [
    {
     "data": {
      "text/plain": [
       "29116"
      ]
     },
     "execution_count": 15,
     "metadata": {},
     "output_type": "execute_result"
    }
   ],
   "source": [
    "len(list(user_pv.pv.values))"
   ]
  },
  {
   "cell_type": "markdown",
   "metadata": {},
   "source": [
    "pyechat的histogram缺少自动计算功能，需要手动输入最后数据。\n",
    "\n",
    "\n",
    "from pyecharts import options as opts\n",
    "from pyecharts.charts import Bar\n",
    "from pyecharts.faker import Faker # 很有意思的一个功能\n",
    "from IPython.display import IFrame\n",
    "c = (\n",
    "    Bar()\n",
    "    .add_xaxis([0,10,20,30,40,50])\n",
    "    .add_yaxis(\"商家A\", [850,1500,1200,1300,1250], category_gap=0, color=Faker.rand_color())\n",
    "    .set_global_opts(title_opts=opts.TitleOpts(title=\"Bar-直方图\"))\n",
    "    .render(\"bar_histogram.html\")\n",
    "\n",
    ")\n",
    "IFrame(src='./bar_histogram.html', width=8000, height=800)"
   ]
  },
  {
   "cell_type": "code",
   "execution_count": 16,
   "metadata": {},
   "outputs": [
    {
     "data": {
      "text/plain": [
       "23"
      ]
     },
     "execution_count": 16,
     "metadata": {},
     "output_type": "execute_result"
    }
   ],
   "source": [
    "# 只有一次浏览记录的用户有多少？\n",
    "# 可见，非常少，可以忽略不计。\n",
    "len(user_pv[user_pv['pv'] == 1])"
   ]
  },
  {
   "cell_type": "code",
   "execution_count": 17,
   "metadata": {},
   "outputs": [
    {
     "data": {
      "text/plain": [
       "2435888"
      ]
     },
     "execution_count": 17,
     "metadata": {},
     "output_type": "execute_result"
    }
   ],
   "source": [
    "# 所有user的总浏览量\n",
    "users[users['status']=='pv']['user_id'].count()"
   ]
  },
  {
   "cell_type": "code",
   "execution_count": 18,
   "metadata": {},
   "outputs": [
    {
     "data": {
      "text/plain": [
       "'0.000944%'"
      ]
     },
     "execution_count": 18,
     "metadata": {},
     "output_type": "execute_result"
    }
   ],
   "source": [
    "# 跳失率\n",
    "Bounce_rate = len(user_pv[user_pv['pv'] == 1]) / users[users['status']=='pv']['user_id'].count()\n",
    "'{:.6%}'.format(Bounce_rate)"
   ]
  },
  {
   "cell_type": "markdown",
   "metadata": {},
   "source": [
    "漏斗模型：\n",
    "喜欢和放入购物车都属于决策环节，二者合一。\n",
    "百分之多少的人从pv进入了cart和fav环节\n",
    "又有百分之多少的人从cart和fav环节进入了最后的buy"
   ]
  },
  {
   "cell_type": "code",
   "execution_count": 19,
   "metadata": {},
   "outputs": [
    {
     "data": {
      "text/plain": [
       "status\n",
       "buy       58537\n",
       "cart     167988\n",
       "fav       86553\n",
       "pv      2435888\n",
       "Name: user_id, dtype: int64"
      ]
     },
     "execution_count": 19,
     "metadata": {},
     "output_type": "execute_result"
    }
   ],
   "source": [
    "users_status = users.groupby('status').user_id.count()\n",
    "users_status"
   ]
  },
  {
   "cell_type": "code",
   "execution_count": 20,
   "metadata": {},
   "outputs": [
    {
     "data": {
      "text/plain": [
       "'10.45%'"
      ]
     },
     "execution_count": 20,
     "metadata": {},
     "output_type": "execute_result"
    }
   ],
   "source": [
    "# 约10.46%的用户从浏览环节进入决策环节\n",
    "pv_to_cartnfav = (users_status[1]+users_status[2])/users_status[3]\n",
    "'{:.2%}'.format(pv_to_cartnfav)"
   ]
  },
  {
   "cell_type": "code",
   "execution_count": 21,
   "metadata": {},
   "outputs": [
    {
     "data": {
      "text/plain": [
       "'22.997%'"
      ]
     },
     "execution_count": 21,
     "metadata": {},
     "output_type": "execute_result"
    }
   ],
   "source": [
    "# 约23.06%的用户从决策环节进入了购买环节，环比之前大幅提升\n",
    "cartnfav_to_buy = users_status[0]/(users_status[1]+users_status[2])\n",
    "'{:.3%}'.format(cartnfav_to_buy)"
   ]
  },
  {
   "cell_type": "markdown",
   "metadata": {},
   "source": [
    "# 适合展示vote yes or no 之类的结果\n",
    "\n",
    "from pyecharts import options as opts\n",
    "from pyecharts.charts import Grid, Liquid\n",
    "from pyecharts.commons.utils import JsCode\n",
    "from IPython.display import IFrame\n",
    "\n",
    "l1 = (\n",
    "    Liquid()\n",
    "    .add(\"lq\", [0.23, 0.3], center=[\"60%\", \"50%\"],)\n",
    "    .set_global_opts(title_opts=opts.TitleOpts(title=\"Conversion_Rate:    pv_to_cartnfav=10.45%    cartnfav_to_buy=23%\"))\n",
    ")\n",
    "\n",
    "l2 = Liquid().add(\n",
    "    \"lq\",\n",
    "    [0.1045, 0.15],\n",
    "    center=[\"25%\", \"50%\"],\n",
    "    label_opts=opts.LabelOpts(\n",
    "        font_size=35,\n",
    "        formatter=JsCode(\n",
    "            \"\"\"function (param) {\n",
    "                    return (Math.floor(param.value * 10000) / 100) + '%';\n",
    "                }\"\"\"\n",
    "        ),\n",
    "        position=\"inside\",\n",
    "    ),\n",
    ")\n",
    "\n",
    "grid = Grid().add(l1, grid_opts=opts.GridOpts()).add(l2, grid_opts=opts.GridOpts())\n",
    "grid.render(\"multiple_liquid.html\")\n",
    "\n",
    "IFrame(src='./multiple_liquid.html', width=700, height=600) # these codes worked"
   ]
  },
  {
   "cell_type": "code",
   "execution_count": 22,
   "metadata": {},
   "outputs": [
    {
     "data": {
      "text/html": [
       "<div>\n",
       "<style scoped>\n",
       "    .dataframe tbody tr th:only-of-type {\n",
       "        vertical-align: middle;\n",
       "    }\n",
       "\n",
       "    .dataframe tbody tr th {\n",
       "        vertical-align: top;\n",
       "    }\n",
       "\n",
       "    .dataframe thead th {\n",
       "        text-align: right;\n",
       "    }\n",
       "</style>\n",
       "<table border=\"1\" class=\"dataframe\">\n",
       "  <thead>\n",
       "    <tr style=\"text-align: right;\">\n",
       "      <th></th>\n",
       "      <th>user_id</th>\n",
       "      <th>item_id</th>\n",
       "      <th>category_id</th>\n",
       "      <th>status</th>\n",
       "      <th>date</th>\n",
       "      <th>dayofweek</th>\n",
       "      <th>hour</th>\n",
       "    </tr>\n",
       "  </thead>\n",
       "  <tbody>\n",
       "    <tr>\n",
       "      <th>0</th>\n",
       "      <td>309818</td>\n",
       "      <td>4710383</td>\n",
       "      <td>1792277</td>\n",
       "      <td>pv</td>\n",
       "      <td>2017-11-29</td>\n",
       "      <td>2</td>\n",
       "      <td>20</td>\n",
       "    </tr>\n",
       "    <tr>\n",
       "      <th>1</th>\n",
       "      <td>309818</td>\n",
       "      <td>1421743</td>\n",
       "      <td>4069500</td>\n",
       "      <td>pv</td>\n",
       "      <td>2017-11-29</td>\n",
       "      <td>2</td>\n",
       "      <td>20</td>\n",
       "    </tr>\n",
       "    <tr>\n",
       "      <th>2</th>\n",
       "      <td>309818</td>\n",
       "      <td>800137</td>\n",
       "      <td>1216617</td>\n",
       "      <td>pv</td>\n",
       "      <td>2017-11-29</td>\n",
       "      <td>2</td>\n",
       "      <td>20</td>\n",
       "    </tr>\n",
       "    <tr>\n",
       "      <th>3</th>\n",
       "      <td>309818</td>\n",
       "      <td>2493122</td>\n",
       "      <td>1216617</td>\n",
       "      <td>pv</td>\n",
       "      <td>2017-11-29</td>\n",
       "      <td>2</td>\n",
       "      <td>20</td>\n",
       "    </tr>\n",
       "    <tr>\n",
       "      <th>4</th>\n",
       "      <td>309818</td>\n",
       "      <td>1461532</td>\n",
       "      <td>3102419</td>\n",
       "      <td>pv</td>\n",
       "      <td>2017-11-30</td>\n",
       "      <td>3</td>\n",
       "      <td>7</td>\n",
       "    </tr>\n",
       "  </tbody>\n",
       "</table>\n",
       "</div>"
      ],
      "text/plain": [
       "   user_id  item_id  category_id status        date  dayofweek  hour\n",
       "0   309818  4710383      1792277     pv  2017-11-29          2    20\n",
       "1   309818  1421743      4069500     pv  2017-11-29          2    20\n",
       "2   309818   800137      1216617     pv  2017-11-29          2    20\n",
       "3   309818  2493122      1216617     pv  2017-11-29          2    20\n",
       "4   309818  1461532      3102419     pv  2017-11-30          3     7"
      ]
     },
     "execution_count": 22,
     "metadata": {},
     "output_type": "execute_result"
    }
   ],
   "source": [
    "users.head()"
   ]
  },
  {
   "cell_type": "code",
   "execution_count": 23,
   "metadata": {},
   "outputs": [
    {
     "name": "stdout",
     "output_type": "stream",
     "text": [
      "2435888\n",
      "254541\n",
      "58537\n"
     ]
    }
   ],
   "source": [
    "print(len(users[users['status']=='pv']))\n",
    "\n",
    "print(len(users[(users['status']=='cart') | (users['status']=='fav')]))\n",
    "\n",
    "print(len(users[users['status']=='buy']))"
   ]
  },
  {
   "cell_type": "code",
   "execution_count": 24,
   "metadata": {},
   "outputs": [
    {
     "data": {
      "text/html": [
       "\n",
       "        <iframe\n",
       "            width=\"1000\"\n",
       "            height=\"600\"\n",
       "            src=\"./funnel_chart.html\"\n",
       "            frameborder=\"0\"\n",
       "            allowfullscreen\n",
       "        ></iframe>\n",
       "        "
      ],
      "text/plain": [
       "<IPython.lib.display.IFrame at 0x114ccd198>"
      ]
     },
     "execution_count": 24,
     "metadata": {},
     "output_type": "execute_result"
    }
   ],
   "source": [
    "from pyecharts import options as opts\n",
    "from pyecharts.charts import Funnel\n",
    "from pyecharts.faker import Faker\n",
    "from IPython.display import IFrame\n",
    "\n",
    "x_data = [\"pv=2435888\", \"cart&fav=254541(10.45% of pv)\", \"buy=58537(23% of cart&fav)\"]\n",
    "y_data = [2435888, 254541, 58537]\n",
    "\n",
    "data = [[x_data[i], y_data[i]] for i in range(len(x_data))]\n",
    "\n",
    "(\n",
    "    Funnel(init_opts=opts.InitOpts(width=\"800px\", height=\"600px\"))\n",
    "    .add(\n",
    "        series_name=\"\",\n",
    "        data_pair=data,\n",
    "        gap=2,\n",
    "#         tooltip_opts=opts.TooltipOpts(trigger=\"item\", formatter=\"{a} <br/>{b} : {c}%\"),\n",
    "        label_opts=opts.LabelOpts(is_show=True, position=\"outside\",color='black'),\n",
    "        itemstyle_opts=opts.ItemStyleOpts(border_color=\"#fff\", border_width=1),\n",
    "    )\n",
    "    .set_global_opts(title_opts=opts.TitleOpts(title=\"Conversion Rate\", subtitle=\"Alibaba_users\"))\n",
    "    .render(\"funnel_chart.html\")\n",
    ")\n",
    "IFrame(src='./funnel_chart.html', width=1000, height=600)"
   ]
  },
  {
   "cell_type": "markdown",
   "metadata": {},
   "source": [
    "# 不同时间尺度下，用户行为模式分析"
   ]
  },
  {
   "cell_type": "markdown",
   "metadata": {},
   "source": [
    "1.分析一周内的用户使用情况"
   ]
  },
  {
   "cell_type": "code",
   "execution_count": 25,
   "metadata": {},
   "outputs": [
    {
     "data": {
      "text/plain": [
       "array(['2017-11-29', '2017-11-30', '2017-12-01', '2017-12-02',\n",
       "       '2017-12-03', '2017-11-27', '2017-11-28', '2017-11-25',\n",
       "       '2017-11-26'], dtype=object)"
      ]
     },
     "execution_count": 25,
     "metadata": {},
     "output_type": "execute_result"
    }
   ],
   "source": [
    "users.date.unique()"
   ]
  },
  {
   "cell_type": "code",
   "execution_count": 26,
   "metadata": {},
   "outputs": [
    {
     "data": {
      "text/html": [
       "<div>\n",
       "<style scoped>\n",
       "    .dataframe tbody tr th:only-of-type {\n",
       "        vertical-align: middle;\n",
       "    }\n",
       "\n",
       "    .dataframe tbody tr th {\n",
       "        vertical-align: top;\n",
       "    }\n",
       "\n",
       "    .dataframe thead th {\n",
       "        text-align: right;\n",
       "    }\n",
       "</style>\n",
       "<table border=\"1\" class=\"dataframe\">\n",
       "  <thead>\n",
       "    <tr style=\"text-align: right;\">\n",
       "      <th></th>\n",
       "      <th>date</th>\n",
       "      <th>status</th>\n",
       "      <th>user_id</th>\n",
       "    </tr>\n",
       "  </thead>\n",
       "  <tbody>\n",
       "    <tr>\n",
       "      <th>0</th>\n",
       "      <td>2017-11-25</td>\n",
       "      <td>buy</td>\n",
       "      <td>5868</td>\n",
       "    </tr>\n",
       "    <tr>\n",
       "      <th>1</th>\n",
       "      <td>2017-11-25</td>\n",
       "      <td>cart</td>\n",
       "      <td>17040</td>\n",
       "    </tr>\n",
       "    <tr>\n",
       "      <th>2</th>\n",
       "      <td>2017-11-25</td>\n",
       "      <td>fav</td>\n",
       "      <td>9163</td>\n",
       "    </tr>\n",
       "    <tr>\n",
       "      <th>3</th>\n",
       "      <td>2017-11-25</td>\n",
       "      <td>pv</td>\n",
       "      <td>258856</td>\n",
       "    </tr>\n",
       "    <tr>\n",
       "      <th>4</th>\n",
       "      <td>2017-11-26</td>\n",
       "      <td>buy</td>\n",
       "      <td>5995</td>\n",
       "    </tr>\n",
       "  </tbody>\n",
       "</table>\n",
       "</div>"
      ],
      "text/plain": [
       "         date status  user_id\n",
       "0  2017-11-25    buy     5868\n",
       "1  2017-11-25   cart    17040\n",
       "2  2017-11-25    fav     9163\n",
       "3  2017-11-25     pv   258856\n",
       "4  2017-11-26    buy     5995"
      ]
     },
     "execution_count": 26,
     "metadata": {},
     "output_type": "execute_result"
    }
   ],
   "source": [
    "# ub is user behavior\n",
    "ub_daily_old=pd.DataFrame(users.groupby(['date','status'], as_index=False).user_id.count())\n",
    "ub_daily_old.head()\n"
   ]
  },
  {
   "cell_type": "code",
   "execution_count": 27,
   "metadata": {},
   "outputs": [
    {
     "data": {
      "text/html": [
       "<div>\n",
       "<style scoped>\n",
       "    .dataframe tbody tr th:only-of-type {\n",
       "        vertical-align: middle;\n",
       "    }\n",
       "\n",
       "    .dataframe tbody tr th {\n",
       "        vertical-align: top;\n",
       "    }\n",
       "\n",
       "    .dataframe thead tr th {\n",
       "        text-align: left;\n",
       "    }\n",
       "\n",
       "    .dataframe thead tr:last-of-type th {\n",
       "        text-align: right;\n",
       "    }\n",
       "</style>\n",
       "<table border=\"1\" class=\"dataframe\">\n",
       "  <thead>\n",
       "    <tr>\n",
       "      <th></th>\n",
       "      <th colspan=\"4\" halign=\"left\">user_id</th>\n",
       "    </tr>\n",
       "    <tr>\n",
       "      <th>status</th>\n",
       "      <th>buy</th>\n",
       "      <th>cart</th>\n",
       "      <th>fav</th>\n",
       "      <th>pv</th>\n",
       "    </tr>\n",
       "    <tr>\n",
       "      <th>date</th>\n",
       "      <th></th>\n",
       "      <th></th>\n",
       "      <th></th>\n",
       "      <th></th>\n",
       "    </tr>\n",
       "  </thead>\n",
       "  <tbody>\n",
       "    <tr>\n",
       "      <th>2017-11-25</th>\n",
       "      <td>5868</td>\n",
       "      <td>17040</td>\n",
       "      <td>9163</td>\n",
       "      <td>258856</td>\n",
       "    </tr>\n",
       "    <tr>\n",
       "      <th>2017-11-26</th>\n",
       "      <td>5995</td>\n",
       "      <td>18057</td>\n",
       "      <td>9245</td>\n",
       "      <td>260688</td>\n",
       "    </tr>\n",
       "    <tr>\n",
       "      <th>2017-11-27</th>\n",
       "      <td>6566</td>\n",
       "      <td>16564</td>\n",
       "      <td>8817</td>\n",
       "      <td>246517</td>\n",
       "    </tr>\n",
       "    <tr>\n",
       "      <th>2017-11-28</th>\n",
       "      <td>6055</td>\n",
       "      <td>16468</td>\n",
       "      <td>8639</td>\n",
       "      <td>242771</td>\n",
       "    </tr>\n",
       "    <tr>\n",
       "      <th>2017-11-29</th>\n",
       "      <td>6299</td>\n",
       "      <td>16771</td>\n",
       "      <td>8885</td>\n",
       "      <td>247401</td>\n",
       "    </tr>\n",
       "    <tr>\n",
       "      <th>2017-11-30</th>\n",
       "      <td>6458</td>\n",
       "      <td>17192</td>\n",
       "      <td>9177</td>\n",
       "      <td>251903</td>\n",
       "    </tr>\n",
       "    <tr>\n",
       "      <th>2017-12-01</th>\n",
       "      <td>6137</td>\n",
       "      <td>18759</td>\n",
       "      <td>9088</td>\n",
       "      <td>264524</td>\n",
       "    </tr>\n",
       "    <tr>\n",
       "      <th>2017-12-02</th>\n",
       "      <td>7707</td>\n",
       "      <td>23909</td>\n",
       "      <td>12058</td>\n",
       "      <td>334480</td>\n",
       "    </tr>\n",
       "    <tr>\n",
       "      <th>2017-12-03</th>\n",
       "      <td>7452</td>\n",
       "      <td>23228</td>\n",
       "      <td>11481</td>\n",
       "      <td>328748</td>\n",
       "    </tr>\n",
       "  </tbody>\n",
       "</table>\n",
       "</div>"
      ],
      "text/plain": [
       "           user_id                      \n",
       "status         buy   cart    fav      pv\n",
       "date                                    \n",
       "2017-11-25    5868  17040   9163  258856\n",
       "2017-11-26    5995  18057   9245  260688\n",
       "2017-11-27    6566  16564   8817  246517\n",
       "2017-11-28    6055  16468   8639  242771\n",
       "2017-11-29    6299  16771   8885  247401\n",
       "2017-11-30    6458  17192   9177  251903\n",
       "2017-12-01    6137  18759   9088  264524\n",
       "2017-12-02    7707  23909  12058  334480\n",
       "2017-12-03    7452  23228  11481  328748"
      ]
     },
     "execution_count": 27,
     "metadata": {},
     "output_type": "execute_result"
    }
   ],
   "source": [
    "# .pivot() 以...为中心旋转 很重要很重要很重要\n",
    "ub_daily = ub_daily_old.pivot(index='date',columns='status')\n",
    "ub_daily"
   ]
  },
  {
   "cell_type": "code",
   "execution_count": 28,
   "metadata": {
    "scrolled": true
   },
   "outputs": [
    {
     "data": {
      "text/html": [
       "<div>\n",
       "<style scoped>\n",
       "    .dataframe tbody tr th:only-of-type {\n",
       "        vertical-align: middle;\n",
       "    }\n",
       "\n",
       "    .dataframe tbody tr th {\n",
       "        vertical-align: top;\n",
       "    }\n",
       "\n",
       "    .dataframe thead th {\n",
       "        text-align: right;\n",
       "    }\n",
       "</style>\n",
       "<table border=\"1\" class=\"dataframe\">\n",
       "  <thead>\n",
       "    <tr style=\"text-align: right;\">\n",
       "      <th></th>\n",
       "      <th>pv</th>\n",
       "      <th>fav</th>\n",
       "      <th>cart</th>\n",
       "      <th>buy</th>\n",
       "    </tr>\n",
       "    <tr>\n",
       "      <th>date</th>\n",
       "      <th></th>\n",
       "      <th></th>\n",
       "      <th></th>\n",
       "      <th></th>\n",
       "    </tr>\n",
       "  </thead>\n",
       "  <tbody>\n",
       "    <tr>\n",
       "      <th>2017-11-25</th>\n",
       "      <td>258856</td>\n",
       "      <td>9163</td>\n",
       "      <td>17040</td>\n",
       "      <td>5868</td>\n",
       "    </tr>\n",
       "    <tr>\n",
       "      <th>2017-11-26</th>\n",
       "      <td>260688</td>\n",
       "      <td>9245</td>\n",
       "      <td>18057</td>\n",
       "      <td>5995</td>\n",
       "    </tr>\n",
       "    <tr>\n",
       "      <th>2017-11-27</th>\n",
       "      <td>246517</td>\n",
       "      <td>8817</td>\n",
       "      <td>16564</td>\n",
       "      <td>6566</td>\n",
       "    </tr>\n",
       "    <tr>\n",
       "      <th>2017-11-28</th>\n",
       "      <td>242771</td>\n",
       "      <td>8639</td>\n",
       "      <td>16468</td>\n",
       "      <td>6055</td>\n",
       "    </tr>\n",
       "    <tr>\n",
       "      <th>2017-11-29</th>\n",
       "      <td>247401</td>\n",
       "      <td>8885</td>\n",
       "      <td>16771</td>\n",
       "      <td>6299</td>\n",
       "    </tr>\n",
       "    <tr>\n",
       "      <th>2017-11-30</th>\n",
       "      <td>251903</td>\n",
       "      <td>9177</td>\n",
       "      <td>17192</td>\n",
       "      <td>6458</td>\n",
       "    </tr>\n",
       "    <tr>\n",
       "      <th>2017-12-01</th>\n",
       "      <td>264524</td>\n",
       "      <td>9088</td>\n",
       "      <td>18759</td>\n",
       "      <td>6137</td>\n",
       "    </tr>\n",
       "    <tr>\n",
       "      <th>2017-12-02</th>\n",
       "      <td>334480</td>\n",
       "      <td>12058</td>\n",
       "      <td>23909</td>\n",
       "      <td>7707</td>\n",
       "    </tr>\n",
       "    <tr>\n",
       "      <th>2017-12-03</th>\n",
       "      <td>328748</td>\n",
       "      <td>11481</td>\n",
       "      <td>23228</td>\n",
       "      <td>7452</td>\n",
       "    </tr>\n",
       "  </tbody>\n",
       "</table>\n",
       "</div>"
      ],
      "text/plain": [
       "                pv    fav   cart   buy\n",
       "date                                  \n",
       "2017-11-25  258856   9163  17040  5868\n",
       "2017-11-26  260688   9245  18057  5995\n",
       "2017-11-27  246517   8817  16564  6566\n",
       "2017-11-28  242771   8639  16468  6055\n",
       "2017-11-29  247401   8885  16771  6299\n",
       "2017-11-30  251903   9177  17192  6458\n",
       "2017-12-01  264524   9088  18759  6137\n",
       "2017-12-02  334480  12058  23909  7707\n",
       "2017-12-03  328748  11481  23228  7452"
      ]
     },
     "execution_count": 28,
     "metadata": {},
     "output_type": "execute_result"
    }
   ],
   "source": [
    "# 好像可以对multi_colums的col name直接做修改\n",
    "ub_daily.columns = ['buy', 'cart', 'fav', 'pv']\n",
    "# 改名后调整cols的顺序\n",
    "ub_daily = ub_daily[['pv','fav','cart','buy']]\n",
    "ub_daily"
   ]
  },
  {
   "cell_type": "markdown",
   "metadata": {},
   "source": [
    "小结论：\n",
    "11-29为周三，11-25为周六，12-03为周日\n",
    "周一到周五数据趋于稳定，周末数据有明显增加，运营活动可向周末时间倾斜"
   ]
  },
  {
   "cell_type": "code",
   "execution_count": 29,
   "metadata": {},
   "outputs": [
    {
     "name": "stdout",
     "output_type": "stream",
     "text": [
      "[258856, 260688, 246517, 242771, 247401, 251903, 264524, 334480, 328748]\n",
      "[9163, 9245, 8817, 8639, 8885, 9177, 9088, 12058, 11481]\n",
      "[17040, 18057, 16564, 16468, 16771, 17192, 18759, 23909, 23228]\n",
      "[5868, 5995, 6566, 6055, 6299, 6458, 6137, 7707, 7452]\n"
     ]
    }
   ],
   "source": [
    "print(list(ub_daily.pv.values))\n",
    "\n",
    "print(list(ub_daily.fav.values))\n",
    "\n",
    "print(list(ub_daily.cart.values))\n",
    "\n",
    "print(list(ub_daily.buy.values))"
   ]
  },
  {
   "cell_type": "code",
   "execution_count": 30,
   "metadata": {},
   "outputs": [
    {
     "data": {
      "text/html": [
       "\n",
       "        <iframe\n",
       "            width=\"1200\"\n",
       "            height=\"600\"\n",
       "            src=\"./bar_toolbox.html\"\n",
       "            frameborder=\"0\"\n",
       "            allowfullscreen\n",
       "        ></iframe>\n",
       "        "
      ],
      "text/plain": [
       "<IPython.lib.display.IFrame at 0x114e4ed30>"
      ]
     },
     "execution_count": 30,
     "metadata": {},
     "output_type": "execute_result"
    }
   ],
   "source": [
    "from pyecharts import options as opts\n",
    "from pyecharts.charts import Bar\n",
    "from pyecharts.faker import Faker\n",
    "\n",
    "c = (\n",
    "    Bar(init_opts=opts.InitOpts(width=\"1000px\", height=\"500px\"))\n",
    "    .add_xaxis(list(ub_daily.index))\n",
    "    .add_yaxis(\"pv\", [258856, 260688, 246517, 242771, 247401, 251903, 264524, 334480, 328748]) #tried using list(ub_daily.pv.values), doesn't work\n",
    "    .add_yaxis(\"cart\", [17040, 18057, 16564, 16468, 16771, 17192, 18759, 23909, 23228])\n",
    "    .add_yaxis(\"fav\",[9163, 9245, 8817, 8639, 8885, 9177, 9088, 12058, 11481])\n",
    "    .add_yaxis(\"buy\", [5868, 5995, 6566, 6055, 6299, 6458, 6137, 7707, 7452])\n",
    "    .set_global_opts(\n",
    "        title_opts=opts.TitleOpts(title=\"Weekly : pv_cart_fav_buy\"),\n",
    "#         toolbox_opts=opts.ToolboxOpts(),\n",
    "        legend_opts=opts.LegendOpts(is_show=False),\n",
    "    )\n",
    "    .render(\"bar_toolbox.html\")\n",
    ")\n",
    "IFrame(src='./bar_toolbox.html', width=1200, height=600)"
   ]
  },
  {
   "cell_type": "markdown",
   "metadata": {},
   "source": [
    "2. 分析用户一天内的使用情况"
   ]
  },
  {
   "cell_type": "code",
   "execution_count": 31,
   "metadata": {},
   "outputs": [
    {
     "data": {
      "text/html": [
       "<div>\n",
       "<style scoped>\n",
       "    .dataframe tbody tr th:only-of-type {\n",
       "        vertical-align: middle;\n",
       "    }\n",
       "\n",
       "    .dataframe tbody tr th {\n",
       "        vertical-align: top;\n",
       "    }\n",
       "\n",
       "    .dataframe thead th {\n",
       "        text-align: right;\n",
       "    }\n",
       "</style>\n",
       "<table border=\"1\" class=\"dataframe\">\n",
       "  <thead>\n",
       "    <tr style=\"text-align: right;\">\n",
       "      <th></th>\n",
       "      <th>user_id</th>\n",
       "      <th>item_id</th>\n",
       "      <th>category_id</th>\n",
       "      <th>status</th>\n",
       "      <th>date</th>\n",
       "      <th>dayofweek</th>\n",
       "      <th>hour</th>\n",
       "    </tr>\n",
       "  </thead>\n",
       "  <tbody>\n",
       "    <tr>\n",
       "      <th>0</th>\n",
       "      <td>309818</td>\n",
       "      <td>4710383</td>\n",
       "      <td>1792277</td>\n",
       "      <td>pv</td>\n",
       "      <td>2017-11-29</td>\n",
       "      <td>2</td>\n",
       "      <td>20</td>\n",
       "    </tr>\n",
       "    <tr>\n",
       "      <th>1</th>\n",
       "      <td>309818</td>\n",
       "      <td>1421743</td>\n",
       "      <td>4069500</td>\n",
       "      <td>pv</td>\n",
       "      <td>2017-11-29</td>\n",
       "      <td>2</td>\n",
       "      <td>20</td>\n",
       "    </tr>\n",
       "    <tr>\n",
       "      <th>2</th>\n",
       "      <td>309818</td>\n",
       "      <td>800137</td>\n",
       "      <td>1216617</td>\n",
       "      <td>pv</td>\n",
       "      <td>2017-11-29</td>\n",
       "      <td>2</td>\n",
       "      <td>20</td>\n",
       "    </tr>\n",
       "    <tr>\n",
       "      <th>3</th>\n",
       "      <td>309818</td>\n",
       "      <td>2493122</td>\n",
       "      <td>1216617</td>\n",
       "      <td>pv</td>\n",
       "      <td>2017-11-29</td>\n",
       "      <td>2</td>\n",
       "      <td>20</td>\n",
       "    </tr>\n",
       "    <tr>\n",
       "      <th>4</th>\n",
       "      <td>309818</td>\n",
       "      <td>1461532</td>\n",
       "      <td>3102419</td>\n",
       "      <td>pv</td>\n",
       "      <td>2017-11-30</td>\n",
       "      <td>3</td>\n",
       "      <td>7</td>\n",
       "    </tr>\n",
       "  </tbody>\n",
       "</table>\n",
       "</div>"
      ],
      "text/plain": [
       "   user_id  item_id  category_id status        date  dayofweek  hour\n",
       "0   309818  4710383      1792277     pv  2017-11-29          2    20\n",
       "1   309818  1421743      4069500     pv  2017-11-29          2    20\n",
       "2   309818   800137      1216617     pv  2017-11-29          2    20\n",
       "3   309818  2493122      1216617     pv  2017-11-29          2    20\n",
       "4   309818  1461532      3102419     pv  2017-11-30          3     7"
      ]
     },
     "execution_count": 31,
     "metadata": {},
     "output_type": "execute_result"
    }
   ],
   "source": [
    "users.head()"
   ]
  },
  {
   "cell_type": "code",
   "execution_count": 32,
   "metadata": {},
   "outputs": [
    {
     "data": {
      "text/html": [
       "<div>\n",
       "<style scoped>\n",
       "    .dataframe tbody tr th:only-of-type {\n",
       "        vertical-align: middle;\n",
       "    }\n",
       "\n",
       "    .dataframe tbody tr th {\n",
       "        vertical-align: top;\n",
       "    }\n",
       "\n",
       "    .dataframe thead th {\n",
       "        text-align: right;\n",
       "    }\n",
       "</style>\n",
       "<table border=\"1\" class=\"dataframe\">\n",
       "  <thead>\n",
       "    <tr style=\"text-align: right;\">\n",
       "      <th></th>\n",
       "      <th>user_id</th>\n",
       "      <th>status</th>\n",
       "      <th>hour</th>\n",
       "    </tr>\n",
       "  </thead>\n",
       "  <tbody>\n",
       "    <tr>\n",
       "      <th>0</th>\n",
       "      <td>309818</td>\n",
       "      <td>pv</td>\n",
       "      <td>20</td>\n",
       "    </tr>\n",
       "    <tr>\n",
       "      <th>1</th>\n",
       "      <td>309818</td>\n",
       "      <td>pv</td>\n",
       "      <td>20</td>\n",
       "    </tr>\n",
       "    <tr>\n",
       "      <th>2</th>\n",
       "      <td>309818</td>\n",
       "      <td>pv</td>\n",
       "      <td>20</td>\n",
       "    </tr>\n",
       "    <tr>\n",
       "      <th>3</th>\n",
       "      <td>309818</td>\n",
       "      <td>pv</td>\n",
       "      <td>20</td>\n",
       "    </tr>\n",
       "    <tr>\n",
       "      <th>74</th>\n",
       "      <td>309824</td>\n",
       "      <td>pv</td>\n",
       "      <td>9</td>\n",
       "    </tr>\n",
       "  </tbody>\n",
       "</table>\n",
       "</div>"
      ],
      "text/plain": [
       "    user_id status  hour\n",
       "0    309818     pv    20\n",
       "1    309818     pv    20\n",
       "2    309818     pv    20\n",
       "3    309818     pv    20\n",
       "74   309824     pv     9"
      ]
     },
     "execution_count": 32,
     "metadata": {},
     "output_type": "execute_result"
    }
   ],
   "source": [
    "nov_28 = users[users['date']=='2017-11-29'][['user_id','status','hour']]\n",
    "nov_28.head()"
   ]
  },
  {
   "cell_type": "code",
   "execution_count": 33,
   "metadata": {},
   "outputs": [],
   "source": [
    "# 设计一个function，将指定数据自动转换成某日的四种状态浏览记录\n",
    "def daily_status(df,str_colname1,str_colname2,str_colname3):\n",
    "    temp = df.groupby([str_colname3,str_colname2],as_index=False).count()\n",
    "    daily_num = temp.pivot(index=str_colname3,columns=str_colname2)\n",
    "    daily_num.columns=['buy', 'cart', 'fav', 'pv']\n",
    "    daily_num = daily_num[['pv','fav','cart','buy']]\n",
    "    return (daily_num)"
   ]
  },
  {
   "cell_type": "code",
   "execution_count": 34,
   "metadata": {},
   "outputs": [],
   "source": [
    "# \"2017-12-02\" correct ; \"2017-12-2\" incorrect\n",
    "dec_2=users[users['date']=='2017-12-02'][['user_id','status','hour']]\n",
    "dec_2_pic = daily_status(dec_2,'user_id','status','hour')"
   ]
  },
  {
   "cell_type": "code",
   "execution_count": 35,
   "metadata": {},
   "outputs": [],
   "source": [
    "nov_28=users[users['date']=='2017-11-28'][['user_id','status','hour']]\n",
    "nov_28_pic = daily_status(nov_28,'user_id','status','hour')"
   ]
  },
  {
   "cell_type": "code",
   "execution_count": 36,
   "metadata": {},
   "outputs": [
    {
     "data": {
      "text/html": [
       "<div>\n",
       "<style scoped>\n",
       "    .dataframe tbody tr th:only-of-type {\n",
       "        vertical-align: middle;\n",
       "    }\n",
       "\n",
       "    .dataframe tbody tr th {\n",
       "        vertical-align: top;\n",
       "    }\n",
       "\n",
       "    .dataframe thead th {\n",
       "        text-align: right;\n",
       "    }\n",
       "</style>\n",
       "<table border=\"1\" class=\"dataframe\">\n",
       "  <thead>\n",
       "    <tr style=\"text-align: right;\">\n",
       "      <th></th>\n",
       "      <th>pv</th>\n",
       "      <th>fav</th>\n",
       "      <th>cart</th>\n",
       "      <th>buy</th>\n",
       "    </tr>\n",
       "    <tr>\n",
       "      <th>hour</th>\n",
       "      <th></th>\n",
       "      <th></th>\n",
       "      <th></th>\n",
       "      <th></th>\n",
       "    </tr>\n",
       "  </thead>\n",
       "  <tbody>\n",
       "    <tr>\n",
       "      <th>0</th>\n",
       "      <td>7303</td>\n",
       "      <td>313</td>\n",
       "      <td>528</td>\n",
       "      <td>154</td>\n",
       "    </tr>\n",
       "    <tr>\n",
       "      <th>1</th>\n",
       "      <td>3184</td>\n",
       "      <td>81</td>\n",
       "      <td>237</td>\n",
       "      <td>50</td>\n",
       "    </tr>\n",
       "    <tr>\n",
       "      <th>2</th>\n",
       "      <td>1893</td>\n",
       "      <td>68</td>\n",
       "      <td>123</td>\n",
       "      <td>27</td>\n",
       "    </tr>\n",
       "    <tr>\n",
       "      <th>3</th>\n",
       "      <td>1363</td>\n",
       "      <td>33</td>\n",
       "      <td>75</td>\n",
       "      <td>24</td>\n",
       "    </tr>\n",
       "    <tr>\n",
       "      <th>4</th>\n",
       "      <td>1110</td>\n",
       "      <td>22</td>\n",
       "      <td>67</td>\n",
       "      <td>14</td>\n",
       "    </tr>\n",
       "  </tbody>\n",
       "</table>\n",
       "</div>"
      ],
      "text/plain": [
       "        pv  fav  cart  buy\n",
       "hour                      \n",
       "0     7303  313   528  154\n",
       "1     3184   81   237   50\n",
       "2     1893   68   123   27\n",
       "3     1363   33    75   24\n",
       "4     1110   22    67   14"
      ]
     },
     "execution_count": 36,
     "metadata": {},
     "output_type": "execute_result"
    }
   ],
   "source": [
    "nov_28_pic.head()"
   ]
  },
  {
   "cell_type": "markdown",
   "metadata": {},
   "source": [
    "小结论：从每天的数据情况来看，20-23是绝对使用高峰期，应该在此时间段内增加互动营销，以希望更大收益"
   ]
  },
  {
   "cell_type": "markdown",
   "metadata": {},
   "source": [
    "#method1形式炫酷，可缩放，但是只显示了pv，需要同时显示4条线\n",
    "\n",
    "from pyecharts import options as opts\n",
    "from pyecharts.charts import Bar\n",
    "from pyecharts.faker import Faker\n",
    "\n",
    "c = (\n",
    "    Bar(init_opts=opts.InitOpts(width=\"1000px\", height=\"500px\"))\n",
    "    .add_xaxis(list(dec_2_pic.index))\n",
    "    .add_yaxis(\"pv\", list(dec_2_pic.pv), color=Faker.rand_color())\n",
    "    .set_global_opts(\n",
    "        title_opts=opts.TitleOpts(title=\"Dec_2 : pv \"),\n",
    "        datazoom_opts=[opts.DataZoomOpts(), opts.DataZoomOpts(type_=\"inside\")],\n",
    "    )\n",
    "    .render(\"bar_datazoom_both.html\")\n",
    ")\n",
    "IFrame(src='./bar_datazoom_both.html', width=1200, height=600)"
   ]
  },
  {
   "cell_type": "code",
   "execution_count": null,
   "metadata": {},
   "outputs": [],
   "source": [
    "# method2\n",
    "def hourly_pic(listX,list1,list2,list3,list4,title_str):\n",
    "    import pyecharts.options as opts\n",
    "    from pyecharts.charts import Line\n",
    "    from IPython.display import IFrame\n",
    "\n",
    "    x_data = listX\n",
    "\n",
    "# y_data = [10501, 5299, 2930, 1786, 1734, 2000, 4390, 8700, 11019, 13548, 15147, 15709, 14813, 16998, 16354, 17368, 17680, 15984, 16192, 21023, 25508, 28747, 27787, 23263]\n",
    "    (\n",
    "        Line(init_opts=opts.InitOpts(width=\"800px\", height=\"600px\"))\n",
    "        .add_xaxis(xaxis_data=x_data)\n",
    "        .add_yaxis(\n",
    "            series_name=\"pv\",\n",
    "            stack=\"总量\",\n",
    "            y_axis=list1,\n",
    "            label_opts=opts.LabelOpts(is_show=True),\n",
    "        )\n",
    "        .add_yaxis(\n",
    "            series_name=\"fav\",\n",
    "#         stack=\"总量\",\n",
    "            y_axis=list2,\n",
    "            label_opts=opts.LabelOpts(is_show=False),\n",
    "        )\n",
    "        .add_yaxis(\n",
    "            series_name=\"cart\",\n",
    "#         stack=\"总量\",\n",
    "            y_axis=list3,\n",
    "            label_opts=opts.LabelOpts(is_show=False),\n",
    "        )\n",
    "        .add_yaxis(\n",
    "            series_name=\"buy\",\n",
    "#         stack=\"总量\",\n",
    "            y_axis=list4,\n",
    "            label_opts=opts.LabelOpts(is_show=True),\n",
    "        )\n",
    "\n",
    "        .set_global_opts(\n",
    "            title_opts=opts.TitleOpts(title=title_str),\n",
    "            tooltip_opts=opts.TooltipOpts(trigger=\"axis\"),\n",
    "            yaxis_opts=opts.AxisOpts(\n",
    "                type_=\"value\",\n",
    "                axistick_opts=opts.AxisTickOpts(is_show=True),\n",
    "                splitline_opts=opts.SplitLineOpts(is_show=True),\n",
    "            ),\n",
    "            xaxis_opts=opts.AxisOpts(type_=\"category\", boundary_gap=False),\n",
    "        )\n",
    "        .render(\"stacked_line_chart.html\")\n",
    "    )\n",
    "    IFrame(src='./stacked_line_chart.html', width=1200, height=600)"
   ]
  },
  {
   "cell_type": "code",
   "execution_count": 37,
   "metadata": {},
   "outputs": [],
   "source": [
    "# method3\n",
    "def hourly_2pic(listX,list1,list2,list3,list4,title_str):\n",
    "    from pyecharts import options as opts\n",
    "    from pyecharts.charts import Bar, Grid, Line\n",
    "    from pyecharts.faker import Faker\n",
    "    from IPython.display import IFrame\n",
    "    bar = (\n",
    "        Bar(init_opts=opts.InitOpts(width=\"800px\", height=\"600px\"))\n",
    "        .add_xaxis(listX)\n",
    "        .add_yaxis('pv',list1)\n",
    "        .set_global_opts(title_opts=opts.TitleOpts(title=title_str))\n",
    "    )\n",
    "    line = (\n",
    "        Line(init_opts=opts.InitOpts(width=\"800px\", height=\"600px\"))\n",
    "        .add_xaxis(listX)\n",
    "        .add_yaxis(\"fav\", list2)\n",
    "        .add_yaxis(\"cart\", list3)\n",
    "        .add_yaxis(\"buy\", list4)\n",
    "        .set_global_opts(\n",
    "            title_opts=opts.TitleOpts(title=title_str, pos_top=\"48%\"),\n",
    "            legend_opts=opts.LegendOpts(pos_top=\"48%\"),\n",
    "        )\n",
    "    )\n",
    "\n",
    "    grid = (\n",
    "        Grid(init_opts=opts.InitOpts(width=\"800px\", height=\"600px\"))\n",
    "        .add(bar, grid_opts=opts.GridOpts(pos_bottom=\"60%\"))\n",
    "        .add(line, grid_opts=opts.GridOpts(pos_top=\"60%\"))\n",
    "        .render(\"grid_vertical.html\")\n",
    "    )"
   ]
  },
  {
   "cell_type": "code",
   "execution_count": 38,
   "metadata": {},
   "outputs": [],
   "source": [
    "# for some reason, can't use listX=dec_2.index , otherwise graph will malfunction.\n",
    "listX=[0, 1, 2, 3, 4, 5, 6, 7, 8, 9, 10, 11, 12, 13, 14, 15, 16, 17, 18, 19, 20, 21, 22, 23]\n",
    "list1=[10501, 5299, 2930, 1786, 1734, 2000, 4390, 8700, 11019, 13548, \n",
    "                15147, 15709, 14813, 16998, 16354, 17368, 17680, 15984, 16192, 21023,\n",
    "                25508, 28747, 27787, 23263]\n",
    "list2=[336, 236, 102, 91, 61, 66, 153, 298, 432, 531, 620, 643, 583, 624,\n",
    "                605, 562, 599, 649, 528, 726, 889, 912, 952, 860]\n",
    "list3=[736, 397, 212, 151, 129, 119, 359, 628, 810, 1023, 1033, 1139, 1045,\n",
    "                1155, 1127, 1210, 1218, 1110, 1142, 1417, 1758, 2151, 2033, 1807]\n",
    "list4=[188, 81, 52, 22, 28, 24, 67, 147, 223, 338, 514, 452, 425, 508, 489,\n",
    "                466, 475, 362, 394, 428, 535, 560, 539, 390]\n",
    "title_str = 'Dec_2_Sat_hourly_stats'"
   ]
  },
  {
   "cell_type": "code",
   "execution_count": 39,
   "metadata": {},
   "outputs": [],
   "source": [
    "# method2没有双图显示的效果好\n",
    "#hourly_pic(listX,list1,list2,list3,list4,title_str)\n",
    "#IFrame(src='./stacked_line_chart.html', width=1200, height=600)"
   ]
  },
  {
   "cell_type": "code",
   "execution_count": 40,
   "metadata": {
    "scrolled": false
   },
   "outputs": [
    {
     "data": {
      "text/html": [
       "\n",
       "        <iframe\n",
       "            width=\"1200\"\n",
       "            height=\"600\"\n",
       "            src=\"./grid_vertical.html\"\n",
       "            frameborder=\"0\"\n",
       "            allowfullscreen\n",
       "        ></iframe>\n",
       "        "
      ],
      "text/plain": [
       "<IPython.lib.display.IFrame at 0x1148e13c8>"
      ]
     },
     "execution_count": 40,
     "metadata": {},
     "output_type": "execute_result"
    }
   ],
   "source": [
    "hourly_2pic(listX,list1,list2,list3,list4,title_str)\n",
    "IFrame(src='./grid_vertical.html', width=1200, height=600)"
   ]
  },
  {
   "cell_type": "code",
   "execution_count": 41,
   "metadata": {},
   "outputs": [],
   "source": [
    "# nov_28 \n",
    "listX=[0, 1, 2, 3, 4, 5, 6, 7, 8, 9, 10, 11, 12, 13, 14, 15, 16, 17, 18, 19, 20, 21, 22, 23]\n",
    "list1=[7303, 3184, 1893, 1363, 1110, 1628, 3959, 6107, 8336, 10186, 12133, 11263, 11953, 13477, 13468, 12931, 12584, 10891, 11635, 15710, 17302, 20658, 19902, 13795]\n",
    "list2=[313, 81, 68, 33, 22, 60, 136, 253, 348, 373, 454, 462, 409, 522, 506, 388, 508, 443, 322, 584, 546, 588, 602, 618]\n",
    "list3=[528, 237, 123, 75, 67, 102, 277, 385, 595, 708, 777, 773, 779, 852, 862, 918, 781, 773, 770, 998, 1205, 1434, 1469, 980]\n",
    "list4=[154, 50, 27, 24, 14, 25, 58, 81, 198, 350, 373, 346, 411, 371, 359, 360, 372, 300, 265, 371, 425, 404, 426, 291]\n",
    "title_str = 'Nov_28_Sat_hourly_stats'"
   ]
  },
  {
   "cell_type": "code",
   "execution_count": 42,
   "metadata": {},
   "outputs": [
    {
     "data": {
      "text/html": [
       "\n",
       "        <iframe\n",
       "            width=\"1200\"\n",
       "            height=\"600\"\n",
       "            src=\"./grid_vertical.html\"\n",
       "            frameborder=\"0\"\n",
       "            allowfullscreen\n",
       "        ></iframe>\n",
       "        "
      ],
      "text/plain": [
       "<IPython.lib.display.IFrame at 0x115d6d898>"
      ]
     },
     "execution_count": 42,
     "metadata": {},
     "output_type": "execute_result"
    }
   ],
   "source": [
    "hourly_2pic(listX,list1,list2,list3,list4,title_str)\n",
    "IFrame(src='./grid_vertical.html', width=1200, height=600)"
   ]
  },
  {
   "cell_type": "markdown",
   "metadata": {},
   "source": [
    "# 不同商品种类的用户行为"
   ]
  },
  {
   "cell_type": "markdown",
   "metadata": {},
   "source": [
    "1. 统计浏览次数，购买次数，收藏次数，和加入购物车次数最多的商品"
   ]
  },
  {
   "cell_type": "code",
   "execution_count": 43,
   "metadata": {
    "scrolled": false
   },
   "outputs": [
    {
     "data": {
      "text/html": [
       "<div>\n",
       "<style scoped>\n",
       "    .dataframe tbody tr th:only-of-type {\n",
       "        vertical-align: middle;\n",
       "    }\n",
       "\n",
       "    .dataframe tbody tr th {\n",
       "        vertical-align: top;\n",
       "    }\n",
       "\n",
       "    .dataframe thead th {\n",
       "        text-align: right;\n",
       "    }\n",
       "</style>\n",
       "<table border=\"1\" class=\"dataframe\">\n",
       "  <thead>\n",
       "    <tr style=\"text-align: right;\">\n",
       "      <th></th>\n",
       "      <th>user_id</th>\n",
       "      <th>item_id</th>\n",
       "      <th>category_id</th>\n",
       "      <th>status</th>\n",
       "      <th>date</th>\n",
       "      <th>dayofweek</th>\n",
       "      <th>hour</th>\n",
       "    </tr>\n",
       "  </thead>\n",
       "  <tbody>\n",
       "    <tr>\n",
       "      <th>0</th>\n",
       "      <td>309818</td>\n",
       "      <td>4710383</td>\n",
       "      <td>1792277</td>\n",
       "      <td>pv</td>\n",
       "      <td>2017-11-29</td>\n",
       "      <td>2</td>\n",
       "      <td>20</td>\n",
       "    </tr>\n",
       "    <tr>\n",
       "      <th>1</th>\n",
       "      <td>309818</td>\n",
       "      <td>1421743</td>\n",
       "      <td>4069500</td>\n",
       "      <td>pv</td>\n",
       "      <td>2017-11-29</td>\n",
       "      <td>2</td>\n",
       "      <td>20</td>\n",
       "    </tr>\n",
       "    <tr>\n",
       "      <th>2</th>\n",
       "      <td>309818</td>\n",
       "      <td>800137</td>\n",
       "      <td>1216617</td>\n",
       "      <td>pv</td>\n",
       "      <td>2017-11-29</td>\n",
       "      <td>2</td>\n",
       "      <td>20</td>\n",
       "    </tr>\n",
       "    <tr>\n",
       "      <th>3</th>\n",
       "      <td>309818</td>\n",
       "      <td>2493122</td>\n",
       "      <td>1216617</td>\n",
       "      <td>pv</td>\n",
       "      <td>2017-11-29</td>\n",
       "      <td>2</td>\n",
       "      <td>20</td>\n",
       "    </tr>\n",
       "    <tr>\n",
       "      <th>4</th>\n",
       "      <td>309818</td>\n",
       "      <td>1461532</td>\n",
       "      <td>3102419</td>\n",
       "      <td>pv</td>\n",
       "      <td>2017-11-30</td>\n",
       "      <td>3</td>\n",
       "      <td>7</td>\n",
       "    </tr>\n",
       "  </tbody>\n",
       "</table>\n",
       "</div>"
      ],
      "text/plain": [
       "   user_id  item_id  category_id status        date  dayofweek  hour\n",
       "0   309818  4710383      1792277     pv  2017-11-29          2    20\n",
       "1   309818  1421743      4069500     pv  2017-11-29          2    20\n",
       "2   309818   800137      1216617     pv  2017-11-29          2    20\n",
       "3   309818  2493122      1216617     pv  2017-11-29          2    20\n",
       "4   309818  1461532      3102419     pv  2017-11-30          3     7"
      ]
     },
     "execution_count": 43,
     "metadata": {},
     "output_type": "execute_result"
    }
   ],
   "source": [
    "users.head()"
   ]
  },
  {
   "cell_type": "code",
   "execution_count": 44,
   "metadata": {},
   "outputs": [],
   "source": [
    "# top 20 item been viewed\n",
    "item_viewed = users[users['status']=='pv'][['item_id','user_id']].groupby('item_id').count().sort_values('user_id',ascending=False).head(20)\n",
    "item_viewed.columns=['viewed']\n",
    "item_viewed.reset_index(inplace=True)"
   ]
  },
  {
   "cell_type": "code",
   "execution_count": 45,
   "metadata": {
    "scrolled": false
   },
   "outputs": [],
   "source": [
    "# top 20 items been bought\n",
    "item_bought = users[users['status']=='buy'][['item_id','user_id']].groupby('item_id').count().sort_values('user_id',ascending=False).head(20)\n",
    "item_bought.columns = ['bought']\n",
    "item_bought.reset_index(inplace=True)\n"
   ]
  },
  {
   "cell_type": "code",
   "execution_count": 46,
   "metadata": {},
   "outputs": [],
   "source": [
    "# top20 items in fav\n",
    "item_fav = users[users['status']=='fav'][['item_id','user_id']].groupby('item_id').count().sort_values('user_id',ascending=False).head(20)\n",
    "item_fav.columns = ['fav']\n",
    "item_fav.reset_index(inplace=True)"
   ]
  },
  {
   "cell_type": "code",
   "execution_count": 47,
   "metadata": {},
   "outputs": [],
   "source": [
    "# top20 items in cart\n",
    "item_cart = users[users['status']=='cart'][['item_id','user_id']].groupby('item_id').count().sort_values('user_id',ascending=False).head(20)\n",
    "item_cart.columns=['cart']\n",
    "item_cart.reset_index(inplace=True)"
   ]
  },
  {
   "cell_type": "code",
   "execution_count": null,
   "metadata": {},
   "outputs": [],
   "source": [
    "\n"
   ]
  },
  {
   "cell_type": "code",
   "execution_count": null,
   "metadata": {},
   "outputs": [],
   "source": []
  },
  {
   "cell_type": "markdown",
   "metadata": {},
   "source": [
    "study the relation between most bought and viewed\n"
   ]
  },
  {
   "cell_type": "code",
   "execution_count": 48,
   "metadata": {},
   "outputs": [],
   "source": [
    "buy_vs_viewed = pd.DataFrame({'buy':item_bought['item_id'],'viewed':item_viewed['item_id']})\n"
   ]
  },
  {
   "cell_type": "code",
   "execution_count": 49,
   "metadata": {},
   "outputs": [],
   "source": [
    "buy_vs_viewed['matching'] = ['y' if i in buy_vs_viewed.viewed.values else \"n\" for i in buy_vs_viewed.buy ]\n"
   ]
  },
  {
   "cell_type": "markdown",
   "metadata": {},
   "source": [
    "match = []\n",
    "for i in buy_vs_viewed['buy']:\n",
    "    if i in buy_vs_viewed['viewed'].values:\n",
    "        match.append(i)\n",
    "    else:\n",
    "        match.append('n')\n"
   ]
  },
  {
   "cell_type": "code",
   "execution_count": 50,
   "metadata": {},
   "outputs": [
    {
     "data": {
      "text/plain": [
       "array([ 812879, 3845720, 2032668, 2331370,  138964, 2338453,   59883,\n",
       "       4211339, 1535294,  987143, 1583704, 3031354, 4649427, 2279428,\n",
       "       2453685, 2818406, 4443059, 3520504, 3371523,  640975])"
      ]
     },
     "execution_count": 50,
     "metadata": {},
     "output_type": "execute_result"
    }
   ],
   "source": [
    "# 注意，注意，注意，buy_vs_viewed['viewed'] 与buy_vs_viewed['viewed'].values 结果上的区别，\n",
    "# 它们前一个依然有index，后一个是纯values的list\n",
    "buy_vs_viewed['viewed'].values"
   ]
  },
  {
   "cell_type": "code",
   "execution_count": 51,
   "metadata": {},
   "outputs": [
    {
     "data": {
      "text/plain": [
       "1     3031354\n",
       "12    4443059\n",
       "Name: buy, dtype: int64"
      ]
     },
     "execution_count": 51,
     "metadata": {},
     "output_type": "execute_result"
    }
   ],
   "source": [
    "# only 2 matching ones found\n",
    "buy_vs_viewed[buy_vs_viewed['matching']=='y']['buy']\n"
   ]
  },
  {
   "cell_type": "code",
   "execution_count": 52,
   "metadata": {},
   "outputs": [],
   "source": [
    "buy_vs_cart = pd.DataFrame({'buy':item_bought['item_id'],'cart':item_cart['item_id']})\n",
    "buy_vs_cart['matching'] = ['y' if i in buy_vs_cart.cart.values else \"n\" for i in buy_vs_cart.buy ]\n"
   ]
  },
  {
   "cell_type": "code",
   "execution_count": 53,
   "metadata": {},
   "outputs": [
    {
     "data": {
      "text/plain": [
       "1     3031354\n",
       "6     2560262\n",
       "12    4443059\n",
       "Name: buy, dtype: int64"
      ]
     },
     "execution_count": 53,
     "metadata": {},
     "output_type": "execute_result"
    }
   ],
   "source": [
    "buy_vs_cart[buy_vs_cart['matching']=='y']['buy']\n"
   ]
  },
  {
   "cell_type": "code",
   "execution_count": 54,
   "metadata": {},
   "outputs": [],
   "source": [
    "buy_vs_fav = pd.DataFrame({'buy':item_bought['item_id'],'fav':item_fav['item_id']})\n",
    "buy_vs_fav['matching'] = ['y' if i in buy_vs_fav.fav.values else \"n\" for i in buy_vs_fav.buy ]\n",
    "\n"
   ]
  },
  {
   "cell_type": "code",
   "execution_count": 55,
   "metadata": {},
   "outputs": [
    {
     "data": {
      "text/plain": [
       "1    3031354\n",
       "Name: buy, dtype: int64"
      ]
     },
     "execution_count": 55,
     "metadata": {},
     "output_type": "execute_result"
    }
   ],
   "source": [
    "buy_vs_fav[buy_vs_fav['matching']=='y']['buy']\n"
   ]
  },
  {
   "cell_type": "markdown",
   "metadata": {},
   "source": [
    "study the relation between most bought and viewed\n",
    "结论：\n",
    "貌似cart比view和fav对buy的影响更为直接"
   ]
  },
  {
   "cell_type": "code",
   "execution_count": null,
   "metadata": {},
   "outputs": [],
   "source": []
  },
  {
   "cell_type": "code",
   "execution_count": null,
   "metadata": {},
   "outputs": [],
   "source": []
  },
  {
   "cell_type": "code",
   "execution_count": 56,
   "metadata": {},
   "outputs": [
    {
     "data": {
      "text/html": [
       "<div>\n",
       "<style scoped>\n",
       "    .dataframe tbody tr th:only-of-type {\n",
       "        vertical-align: middle;\n",
       "    }\n",
       "\n",
       "    .dataframe tbody tr th {\n",
       "        vertical-align: top;\n",
       "    }\n",
       "\n",
       "    .dataframe thead th {\n",
       "        text-align: right;\n",
       "    }\n",
       "</style>\n",
       "<table border=\"1\" class=\"dataframe\">\n",
       "  <thead>\n",
       "    <tr style=\"text-align: right;\">\n",
       "      <th></th>\n",
       "      <th>item_id</th>\n",
       "      <th>viewed</th>\n",
       "      <th>cart</th>\n",
       "      <th>fav</th>\n",
       "      <th>bought</th>\n",
       "    </tr>\n",
       "  </thead>\n",
       "  <tbody>\n",
       "    <tr>\n",
       "      <th>0</th>\n",
       "      <td>812879</td>\n",
       "      <td>822</td>\n",
       "      <td>44.0</td>\n",
       "      <td>24.0</td>\n",
       "      <td>NaN</td>\n",
       "    </tr>\n",
       "    <tr>\n",
       "      <th>1</th>\n",
       "      <td>3845720</td>\n",
       "      <td>640</td>\n",
       "      <td>27.0</td>\n",
       "      <td>22.0</td>\n",
       "      <td>NaN</td>\n",
       "    </tr>\n",
       "    <tr>\n",
       "      <th>2</th>\n",
       "      <td>2032668</td>\n",
       "      <td>595</td>\n",
       "      <td>NaN</td>\n",
       "      <td>23.0</td>\n",
       "      <td>NaN</td>\n",
       "    </tr>\n",
       "    <tr>\n",
       "      <th>3</th>\n",
       "      <td>2331370</td>\n",
       "      <td>562</td>\n",
       "      <td>36.0</td>\n",
       "      <td>30.0</td>\n",
       "      <td>NaN</td>\n",
       "    </tr>\n",
       "    <tr>\n",
       "      <th>4</th>\n",
       "      <td>138964</td>\n",
       "      <td>552</td>\n",
       "      <td>41.0</td>\n",
       "      <td>21.0</td>\n",
       "      <td>NaN</td>\n",
       "    </tr>\n",
       "    <tr>\n",
       "      <th>5</th>\n",
       "      <td>2338453</td>\n",
       "      <td>529</td>\n",
       "      <td>30.0</td>\n",
       "      <td>NaN</td>\n",
       "      <td>NaN</td>\n",
       "    </tr>\n",
       "    <tr>\n",
       "      <th>6</th>\n",
       "      <td>59883</td>\n",
       "      <td>513</td>\n",
       "      <td>NaN</td>\n",
       "      <td>NaN</td>\n",
       "      <td>NaN</td>\n",
       "    </tr>\n",
       "    <tr>\n",
       "      <th>7</th>\n",
       "      <td>4211339</td>\n",
       "      <td>491</td>\n",
       "      <td>NaN</td>\n",
       "      <td>NaN</td>\n",
       "      <td>NaN</td>\n",
       "    </tr>\n",
       "    <tr>\n",
       "      <th>8</th>\n",
       "      <td>1535294</td>\n",
       "      <td>487</td>\n",
       "      <td>36.0</td>\n",
       "      <td>21.0</td>\n",
       "      <td>NaN</td>\n",
       "    </tr>\n",
       "    <tr>\n",
       "      <th>9</th>\n",
       "      <td>987143</td>\n",
       "      <td>478</td>\n",
       "      <td>NaN</td>\n",
       "      <td>21.0</td>\n",
       "      <td>NaN</td>\n",
       "    </tr>\n",
       "    <tr>\n",
       "      <th>10</th>\n",
       "      <td>1583704</td>\n",
       "      <td>464</td>\n",
       "      <td>29.0</td>\n",
       "      <td>18.0</td>\n",
       "      <td>NaN</td>\n",
       "    </tr>\n",
       "    <tr>\n",
       "      <th>11</th>\n",
       "      <td>3031354</td>\n",
       "      <td>456</td>\n",
       "      <td>46.0</td>\n",
       "      <td>22.0</td>\n",
       "      <td>25.0</td>\n",
       "    </tr>\n",
       "    <tr>\n",
       "      <th>12</th>\n",
       "      <td>4649427</td>\n",
       "      <td>443</td>\n",
       "      <td>30.0</td>\n",
       "      <td>NaN</td>\n",
       "      <td>NaN</td>\n",
       "    </tr>\n",
       "    <tr>\n",
       "      <th>13</th>\n",
       "      <td>2279428</td>\n",
       "      <td>436</td>\n",
       "      <td>28.0</td>\n",
       "      <td>34.0</td>\n",
       "      <td>NaN</td>\n",
       "    </tr>\n",
       "    <tr>\n",
       "      <th>14</th>\n",
       "      <td>2453685</td>\n",
       "      <td>434</td>\n",
       "      <td>33.0</td>\n",
       "      <td>17.0</td>\n",
       "      <td>NaN</td>\n",
       "    </tr>\n",
       "    <tr>\n",
       "      <th>15</th>\n",
       "      <td>2818406</td>\n",
       "      <td>431</td>\n",
       "      <td>43.0</td>\n",
       "      <td>19.0</td>\n",
       "      <td>NaN</td>\n",
       "    </tr>\n",
       "    <tr>\n",
       "      <th>16</th>\n",
       "      <td>4443059</td>\n",
       "      <td>408</td>\n",
       "      <td>28.0</td>\n",
       "      <td>NaN</td>\n",
       "      <td>15.0</td>\n",
       "    </tr>\n",
       "    <tr>\n",
       "      <th>17</th>\n",
       "      <td>3520504</td>\n",
       "      <td>385</td>\n",
       "      <td>NaN</td>\n",
       "      <td>NaN</td>\n",
       "      <td>NaN</td>\n",
       "    </tr>\n",
       "    <tr>\n",
       "      <th>18</th>\n",
       "      <td>3371523</td>\n",
       "      <td>383</td>\n",
       "      <td>NaN</td>\n",
       "      <td>NaN</td>\n",
       "      <td>NaN</td>\n",
       "    </tr>\n",
       "    <tr>\n",
       "      <th>19</th>\n",
       "      <td>640975</td>\n",
       "      <td>377</td>\n",
       "      <td>NaN</td>\n",
       "      <td>NaN</td>\n",
       "      <td>NaN</td>\n",
       "    </tr>\n",
       "  </tbody>\n",
       "</table>\n",
       "</div>"
      ],
      "text/plain": [
       "    item_id  viewed  cart   fav  bought\n",
       "0    812879     822  44.0  24.0     NaN\n",
       "1   3845720     640  27.0  22.0     NaN\n",
       "2   2032668     595   NaN  23.0     NaN\n",
       "3   2331370     562  36.0  30.0     NaN\n",
       "4    138964     552  41.0  21.0     NaN\n",
       "5   2338453     529  30.0   NaN     NaN\n",
       "6     59883     513   NaN   NaN     NaN\n",
       "7   4211339     491   NaN   NaN     NaN\n",
       "8   1535294     487  36.0  21.0     NaN\n",
       "9    987143     478   NaN  21.0     NaN\n",
       "10  1583704     464  29.0  18.0     NaN\n",
       "11  3031354     456  46.0  22.0    25.0\n",
       "12  4649427     443  30.0   NaN     NaN\n",
       "13  2279428     436  28.0  34.0     NaN\n",
       "14  2453685     434  33.0  17.0     NaN\n",
       "15  2818406     431  43.0  19.0     NaN\n",
       "16  4443059     408  28.0   NaN    15.0\n",
       "17  3520504     385   NaN   NaN     NaN\n",
       "18  3371523     383   NaN   NaN     NaN\n",
       "19   640975     377   NaN   NaN     NaN"
      ]
     },
     "execution_count": 56,
     "metadata": {},
     "output_type": "execute_result"
    }
   ],
   "source": [
    "# 探寻v,c,f,b 四个status top 20的关系\n",
    "v_c_f_b = item_viewed.merge(item_cart, on='item_id', how='left').merge(item_fav, on='item_id', how='left').merge(item_bought, on='item_id', how='left')\n",
    "v_c_f_b"
   ]
  },
  {
   "cell_type": "markdown",
   "metadata": {},
   "source": [
    "c_b_f_v = item_cart.merge(item_bought, on='item_id', how='left').merge(item_fav, on='item_id', how='left').merge(item_viewed, on='item_id', how='left')"
   ]
  },
  {
   "cell_type": "code",
   "execution_count": 57,
   "metadata": {},
   "outputs": [],
   "source": [
    "# 以上四幅图需要一个能有效结合在一起的方式，没有比较，几幅图的意义不大。\n",
    "# 最好是图形的。\n",
    "# 思考：用merge的方式查看最终结果和过程间的区别"
   ]
  },
  {
   "cell_type": "markdown",
   "metadata": {},
   "source": [
    "保留item_id作为图中最后一列的category，\n",
    "viewed，按range从高到低，从大到小赋予数值，\n",
    "cart非none部分copy viewed的数值\n",
    "bought非none部分copy fav数值\n",
    "将表格numpy化\n",
    "将np图形化"
   ]
  },
  {
   "cell_type": "code",
   "execution_count": 58,
   "metadata": {},
   "outputs": [],
   "source": [
    "# manually making dummies for making graph later\n",
    "v_c_f_b['viewed_dummy']=np.arange(1,21,1)[::-1]\n",
    "\n",
    "v_c_f_b['cart_dummy']=[j if np.isnan(i)==False else np.nan for i,j in zip(v_c_f_b['cart'],v_c_f_b['viewed_dummy'])]\n",
    "\n",
    "v_c_f_b['fav_dummy']=[j if np.isnan(i)==False else np.nan for i,j in zip(v_c_f_b['fav'],v_c_f_b['cart_dummy'])]\n",
    "\n",
    "v_c_f_b['bought_dummy']=[j if np.isnan(i)==False else np.nan for i,j in zip(v_c_f_b['bought'],v_c_f_b['viewed_dummy'])]"
   ]
  },
  {
   "cell_type": "markdown",
   "metadata": {},
   "source": [
    "cart_dummy =[]\n",
    "for i,j in zip(v_c_f_b['cart'],v_c_f_b['viewed_dummy']):\n",
    "    if np.isnan(i) == False:\n",
    "        cart_dummy.append(j)\n",
    "    else:\n",
    "        cart_dummy.append(np.nan)\n"
   ]
  },
  {
   "cell_type": "markdown",
   "metadata": {},
   "source": [
    "cart_dummy"
   ]
  },
  {
   "cell_type": "code",
   "execution_count": 59,
   "metadata": {},
   "outputs": [],
   "source": [
    "# for making graph, rearrange cols\n",
    "v_c_f_b_pic = v_c_f_b[['item_id','viewed_dummy','cart_dummy', 'fav_dummy', 'bought_dummy']]\n",
    "\n",
    "v_c_f_b_pic=v_c_f_b_pic[['bought_dummy','fav_dummy','cart_dummy','viewed_dummy','item_id']]\n",
    "\n",
    "v_c_f_b_pic['item_id']=[str(i) for i in v_c_f_b_pic.item_id]\n"
   ]
  },
  {
   "cell_type": "code",
   "execution_count": 60,
   "metadata": {},
   "outputs": [],
   "source": [
    "# pyechart doesn't read np.nan, need 'None'.\n",
    "v_c_f_b_pic.replace(np.nan,'None',inplace=True)\n"
   ]
  },
  {
   "cell_type": "code",
   "execution_count": 61,
   "metadata": {},
   "outputs": [
    {
     "data": {
      "text/plain": [
       "['812879',\n",
       " '3845720',\n",
       " '2032668',\n",
       " '2331370',\n",
       " '138964',\n",
       " '2338453',\n",
       " '59883',\n",
       " '4211339',\n",
       " '1535294',\n",
       " '987143',\n",
       " '1583704',\n",
       " '3031354',\n",
       " '4649427',\n",
       " '2279428',\n",
       " '2453685',\n",
       " '2818406',\n",
       " '4443059',\n",
       " '3520504',\n",
       " '3371523',\n",
       " '640975']"
      ]
     },
     "execution_count": 61,
     "metadata": {},
     "output_type": "execute_result"
    }
   ],
   "source": [
    "list(v_c_f_b_pic.item_id)\n"
   ]
  },
  {
   "cell_type": "code",
   "execution_count": 62,
   "metadata": {},
   "outputs": [
    {
     "data": {
      "text/plain": [
       "array([['None', 20.0, 20.0, 20, '812879'],\n",
       "       ['None', 19.0, 19.0, 19, '3845720'],\n",
       "       ['None', 'None', 'None', 18, '2032668'],\n",
       "       ['None', 17.0, 17.0, 17, '2331370'],\n",
       "       ['None', 16.0, 16.0, 16, '138964'],\n",
       "       ['None', 'None', 15.0, 15, '2338453'],\n",
       "       ['None', 'None', 'None', 14, '59883'],\n",
       "       ['None', 'None', 'None', 13, '4211339'],\n",
       "       ['None', 12.0, 12.0, 12, '1535294'],\n",
       "       ['None', 'None', 'None', 11, '987143'],\n",
       "       ['None', 10.0, 10.0, 10, '1583704'],\n",
       "       [9.0, 9.0, 9.0, 9, '3031354'],\n",
       "       ['None', 'None', 8.0, 8, '4649427'],\n",
       "       ['None', 7.0, 7.0, 7, '2279428'],\n",
       "       ['None', 6.0, 6.0, 6, '2453685'],\n",
       "       ['None', 5.0, 5.0, 5, '2818406'],\n",
       "       [4.0, 'None', 4.0, 4, '4443059'],\n",
       "       ['None', 'None', 'None', 3, '3520504'],\n",
       "       ['None', 'None', 'None', 2, '3371523'],\n",
       "       ['None', 'None', 'None', 1, '640975']], dtype=object)"
      ]
     },
     "execution_count": 62,
     "metadata": {},
     "output_type": "execute_result"
    }
   ],
   "source": [
    "v_c_f_b_pic.values\n"
   ]
  },
  {
   "cell_type": "code",
   "execution_count": 63,
   "metadata": {},
   "outputs": [
    {
     "data": {
      "text/html": [
       "\n",
       "        <iframe\n",
       "            width=\"1200\"\n",
       "            height=\"600\"\n",
       "            src=\"./parallel_category.html\"\n",
       "            frameborder=\"0\"\n",
       "            allowfullscreen\n",
       "        ></iframe>\n",
       "        "
      ],
      "text/plain": [
       "<IPython.lib.display.IFrame at 0x114d4e7b8>"
      ]
     },
     "execution_count": 63,
     "metadata": {},
     "output_type": "execute_result"
    }
   ],
   "source": [
    "from pyecharts import options as opts\n",
    "from pyecharts.charts import Parallel\n",
    "\n",
    "data = [\n",
    "    ['None', 20.0, 20.0, 20, '812879'],\n",
    "       ['None', 19.0, 19.0, 19, '3845720'],\n",
    "       ['None', 'None', 'None', 18, '2032668'],\n",
    "       ['None', 17.0, 17.0, 17, '2331370'],\n",
    "       ['None', 16.0, 16.0, 16, '138964'],\n",
    "       ['None', 'None', 15.0, 15, '2338453'],\n",
    "       ['None', 'None', 'None', 14, '59883'],\n",
    "       ['None', 'None', 'None', 13, '4211339'],\n",
    "       ['None', 12.0, 12.0, 12, '1535294'],\n",
    "       ['None', 'None', 'None', 11, '987143'],\n",
    "       ['None', 10.0, 10.0, 10, '1583704'],\n",
    "       [9.0, 9.0, 9.0, 9, '3031354'],\n",
    "       ['None', 'None', 8.0, 8, '4649427'],\n",
    "       ['None', 7.0, 7.0, 7, '2279428'],\n",
    "       ['None', 6.0, 6.0, 6, '2453685'],\n",
    "       ['None', 5.0, 5.0, 5, '2818406'],\n",
    "       [4.0, 'None', 4.0, 4, '4443059'],\n",
    "       ['None', 'None', 'None', 3, '3520504'],\n",
    "       ['None', 'None', 'None', 2, '3371523'],\n",
    "       ['None', 'None', 'None', 1, '640975']\n",
    "]\n",
    "c = (\n",
    "    Parallel(init_opts=opts.InitOpts(width=\"800px\", height=\"500px\"))\n",
    "    .add_schema(\n",
    "        [\n",
    "            opts.ParallelAxisOpts(dim=0, name=\"bought\",max_=20),\n",
    "            opts.ParallelAxisOpts(dim=1, name=\"fav\"),\n",
    "            opts.ParallelAxisOpts(dim=2, name=\"cart\"),\n",
    "            opts.ParallelAxisOpts(dim=3, name=\"viewed\"),\n",
    "            opts.ParallelAxisOpts(\n",
    "                dim=7,\n",
    "                name=\"item_id\",\n",
    "                type_=\"category\",\n",
    "                data=['812879','3845720','2032668','2331370','138964','2338453',\n",
    " '59883','4211339','1535294','987143','1583704','3031354','4649427','2279428',\n",
    " '2453685','2818406','4443059','3520504','3371523','640975'][::-1]\n",
    "            ),\n",
    "        ]\n",
    "    )\n",
    "    .add(\"\", data)\n",
    "    .set_global_opts(title_opts=opts.TitleOpts(title=\"Top20_most_viewed_items : only two been bought\"))\n",
    "    .render(\"parallel_category.html\")\n",
    ")\n",
    "\n",
    "IFrame(src='./parallel_category.html', width=1200, height=600)\n"
   ]
  },
  {
   "cell_type": "code",
   "execution_count": null,
   "metadata": {},
   "outputs": [],
   "source": []
  },
  {
   "cell_type": "markdown",
   "metadata": {},
   "source": [
    "2. 统计所有商品的购买次数"
   ]
  },
  {
   "cell_type": "code",
   "execution_count": 64,
   "metadata": {},
   "outputs": [
    {
     "data": {
      "text/html": [
       "<div>\n",
       "<style scoped>\n",
       "    .dataframe tbody tr th:only-of-type {\n",
       "        vertical-align: middle;\n",
       "    }\n",
       "\n",
       "    .dataframe tbody tr th {\n",
       "        vertical-align: top;\n",
       "    }\n",
       "\n",
       "    .dataframe thead th {\n",
       "        text-align: right;\n",
       "    }\n",
       "</style>\n",
       "<table border=\"1\" class=\"dataframe\">\n",
       "  <thead>\n",
       "    <tr style=\"text-align: right;\">\n",
       "      <th></th>\n",
       "      <th>user_id</th>\n",
       "      <th>item_id</th>\n",
       "      <th>category_id</th>\n",
       "      <th>status</th>\n",
       "      <th>date</th>\n",
       "      <th>dayofweek</th>\n",
       "      <th>hour</th>\n",
       "    </tr>\n",
       "  </thead>\n",
       "  <tbody>\n",
       "    <tr>\n",
       "      <th>0</th>\n",
       "      <td>309818</td>\n",
       "      <td>4710383</td>\n",
       "      <td>1792277</td>\n",
       "      <td>pv</td>\n",
       "      <td>2017-11-29</td>\n",
       "      <td>2</td>\n",
       "      <td>20</td>\n",
       "    </tr>\n",
       "    <tr>\n",
       "      <th>1</th>\n",
       "      <td>309818</td>\n",
       "      <td>1421743</td>\n",
       "      <td>4069500</td>\n",
       "      <td>pv</td>\n",
       "      <td>2017-11-29</td>\n",
       "      <td>2</td>\n",
       "      <td>20</td>\n",
       "    </tr>\n",
       "    <tr>\n",
       "      <th>2</th>\n",
       "      <td>309818</td>\n",
       "      <td>800137</td>\n",
       "      <td>1216617</td>\n",
       "      <td>pv</td>\n",
       "      <td>2017-11-29</td>\n",
       "      <td>2</td>\n",
       "      <td>20</td>\n",
       "    </tr>\n",
       "    <tr>\n",
       "      <th>3</th>\n",
       "      <td>309818</td>\n",
       "      <td>2493122</td>\n",
       "      <td>1216617</td>\n",
       "      <td>pv</td>\n",
       "      <td>2017-11-29</td>\n",
       "      <td>2</td>\n",
       "      <td>20</td>\n",
       "    </tr>\n",
       "    <tr>\n",
       "      <th>4</th>\n",
       "      <td>309818</td>\n",
       "      <td>1461532</td>\n",
       "      <td>3102419</td>\n",
       "      <td>pv</td>\n",
       "      <td>2017-11-30</td>\n",
       "      <td>3</td>\n",
       "      <td>7</td>\n",
       "    </tr>\n",
       "  </tbody>\n",
       "</table>\n",
       "</div>"
      ],
      "text/plain": [
       "   user_id  item_id  category_id status        date  dayofweek  hour\n",
       "0   309818  4710383      1792277     pv  2017-11-29          2    20\n",
       "1   309818  1421743      4069500     pv  2017-11-29          2    20\n",
       "2   309818   800137      1216617     pv  2017-11-29          2    20\n",
       "3   309818  2493122      1216617     pv  2017-11-29          2    20\n",
       "4   309818  1461532      3102419     pv  2017-11-30          3     7"
      ]
     },
     "execution_count": 64,
     "metadata": {},
     "output_type": "execute_result"
    }
   ],
   "source": [
    "users.head()\n"
   ]
  },
  {
   "cell_type": "code",
   "execution_count": 65,
   "metadata": {},
   "outputs": [
    {
     "data": {
      "text/html": [
       "<div>\n",
       "<style scoped>\n",
       "    .dataframe tbody tr th:only-of-type {\n",
       "        vertical-align: middle;\n",
       "    }\n",
       "\n",
       "    .dataframe tbody tr th {\n",
       "        vertical-align: top;\n",
       "    }\n",
       "\n",
       "    .dataframe thead th {\n",
       "        text-align: right;\n",
       "    }\n",
       "</style>\n",
       "<table border=\"1\" class=\"dataframe\">\n",
       "  <thead>\n",
       "    <tr style=\"text-align: right;\">\n",
       "      <th></th>\n",
       "      <th>item_id</th>\n",
       "      <th>user_id</th>\n",
       "    </tr>\n",
       "  </thead>\n",
       "  <tbody>\n",
       "    <tr>\n",
       "      <th>5</th>\n",
       "      <td>3648099</td>\n",
       "      <td>309818</td>\n",
       "    </tr>\n",
       "    <tr>\n",
       "      <th>69</th>\n",
       "      <td>3254921</td>\n",
       "      <td>309824</td>\n",
       "    </tr>\n",
       "    <tr>\n",
       "      <th>72</th>\n",
       "      <td>1245023</td>\n",
       "      <td>309824</td>\n",
       "    </tr>\n",
       "    <tr>\n",
       "      <th>73</th>\n",
       "      <td>2992622</td>\n",
       "      <td>309824</td>\n",
       "    </tr>\n",
       "    <tr>\n",
       "      <th>91</th>\n",
       "      <td>3883578</td>\n",
       "      <td>309824</td>\n",
       "    </tr>\n",
       "  </tbody>\n",
       "</table>\n",
       "</div>"
      ],
      "text/plain": [
       "    item_id  user_id\n",
       "5   3648099   309818\n",
       "69  3254921   309824\n",
       "72  1245023   309824\n",
       "73  2992622   309824\n",
       "91  3883578   309824"
      ]
     },
     "execution_count": 65,
     "metadata": {},
     "output_type": "execute_result"
    }
   ],
   "source": [
    "# filter out 'buy' items and user_id\n",
    "users[users['status']=='buy'][['item_id','user_id']].head()\n"
   ]
  },
  {
   "cell_type": "code",
   "execution_count": 66,
   "metadata": {},
   "outputs": [
    {
     "data": {
      "text/html": [
       "<div>\n",
       "<style scoped>\n",
       "    .dataframe tbody tr th:only-of-type {\n",
       "        vertical-align: middle;\n",
       "    }\n",
       "\n",
       "    .dataframe tbody tr th {\n",
       "        vertical-align: top;\n",
       "    }\n",
       "\n",
       "    .dataframe thead th {\n",
       "        text-align: right;\n",
       "    }\n",
       "</style>\n",
       "<table border=\"1\" class=\"dataframe\">\n",
       "  <thead>\n",
       "    <tr style=\"text-align: right;\">\n",
       "      <th></th>\n",
       "      <th>item_id</th>\n",
       "      <th>bought_times</th>\n",
       "    </tr>\n",
       "  </thead>\n",
       "  <tbody>\n",
       "    <tr>\n",
       "      <th>27871</th>\n",
       "      <td>3122135</td>\n",
       "      <td>34</td>\n",
       "    </tr>\n",
       "    <tr>\n",
       "      <th>27044</th>\n",
       "      <td>3031354</td>\n",
       "      <td>25</td>\n",
       "    </tr>\n",
       "    <tr>\n",
       "      <th>45727</th>\n",
       "      <td>5140357</td>\n",
       "      <td>23</td>\n",
       "    </tr>\n",
       "    <tr>\n",
       "      <th>26402</th>\n",
       "      <td>2964774</td>\n",
       "      <td>23</td>\n",
       "    </tr>\n",
       "    <tr>\n",
       "      <th>16952</th>\n",
       "      <td>1910706</td>\n",
       "      <td>23</td>\n",
       "    </tr>\n",
       "    <tr>\n",
       "      <th>28470</th>\n",
       "      <td>3189426</td>\n",
       "      <td>20</td>\n",
       "    </tr>\n",
       "    <tr>\n",
       "      <th>22773</th>\n",
       "      <td>2560262</td>\n",
       "      <td>17</td>\n",
       "    </tr>\n",
       "    <tr>\n",
       "      <th>44955</th>\n",
       "      <td>5051027</td>\n",
       "      <td>16</td>\n",
       "    </tr>\n",
       "    <tr>\n",
       "      <th>45060</th>\n",
       "      <td>5062984</td>\n",
       "      <td>16</td>\n",
       "    </tr>\n",
       "    <tr>\n",
       "      <th>29019</th>\n",
       "      <td>3251377</td>\n",
       "      <td>16</td>\n",
       "    </tr>\n",
       "  </tbody>\n",
       "</table>\n",
       "</div>"
      ],
      "text/plain": [
       "       item_id  bought_times\n",
       "27871  3122135            34\n",
       "27044  3031354            25\n",
       "45727  5140357            23\n",
       "26402  2964774            23\n",
       "16952  1910706            23\n",
       "28470  3189426            20\n",
       "22773  2560262            17\n",
       "44955  5051027            16\n",
       "45060  5062984            16\n",
       "29019  3251377            16"
      ]
     },
     "execution_count": 66,
     "metadata": {},
     "output_type": "execute_result"
    }
   ],
   "source": [
    "# how many times each item been bought\n",
    "item_buytimes = users[users['status']=='buy'][['item_id','user_id']].groupby('item_id', as_index=False).count().sort_values('user_id',ascending=False)\n",
    "item_buytimes.columns=['item_id','bought_times']\n",
    "item_buytimes.head(10)"
   ]
  },
  {
   "cell_type": "code",
   "execution_count": 67,
   "metadata": {},
   "outputs": [
    {
     "data": {
      "text/html": [
       "<div>\n",
       "<style scoped>\n",
       "    .dataframe tbody tr th:only-of-type {\n",
       "        vertical-align: middle;\n",
       "    }\n",
       "\n",
       "    .dataframe tbody tr th {\n",
       "        vertical-align: top;\n",
       "    }\n",
       "\n",
       "    .dataframe thead th {\n",
       "        text-align: right;\n",
       "    }\n",
       "</style>\n",
       "<table border=\"1\" class=\"dataframe\">\n",
       "  <thead>\n",
       "    <tr style=\"text-align: right;\">\n",
       "      <th></th>\n",
       "      <th>item_id</th>\n",
       "    </tr>\n",
       "    <tr>\n",
       "      <th>bought_times</th>\n",
       "      <th></th>\n",
       "    </tr>\n",
       "  </thead>\n",
       "  <tbody>\n",
       "    <tr>\n",
       "      <th>1</th>\n",
       "      <td>38725</td>\n",
       "    </tr>\n",
       "    <tr>\n",
       "      <th>2</th>\n",
       "      <td>4817</td>\n",
       "    </tr>\n",
       "    <tr>\n",
       "      <th>3</th>\n",
       "      <td>1262</td>\n",
       "    </tr>\n",
       "    <tr>\n",
       "      <th>4</th>\n",
       "      <td>501</td>\n",
       "    </tr>\n",
       "    <tr>\n",
       "      <th>5</th>\n",
       "      <td>237</td>\n",
       "    </tr>\n",
       "    <tr>\n",
       "      <th>6</th>\n",
       "      <td>126</td>\n",
       "    </tr>\n",
       "    <tr>\n",
       "      <th>7</th>\n",
       "      <td>97</td>\n",
       "    </tr>\n",
       "    <tr>\n",
       "      <th>8</th>\n",
       "      <td>50</td>\n",
       "    </tr>\n",
       "    <tr>\n",
       "      <th>9</th>\n",
       "      <td>37</td>\n",
       "    </tr>\n",
       "    <tr>\n",
       "      <th>10</th>\n",
       "      <td>18</td>\n",
       "    </tr>\n",
       "    <tr>\n",
       "      <th>11</th>\n",
       "      <td>13</td>\n",
       "    </tr>\n",
       "    <tr>\n",
       "      <th>12</th>\n",
       "      <td>17</td>\n",
       "    </tr>\n",
       "    <tr>\n",
       "      <th>13</th>\n",
       "      <td>9</td>\n",
       "    </tr>\n",
       "    <tr>\n",
       "      <th>14</th>\n",
       "      <td>3</td>\n",
       "    </tr>\n",
       "    <tr>\n",
       "      <th>15</th>\n",
       "      <td>8</td>\n",
       "    </tr>\n",
       "    <tr>\n",
       "      <th>16</th>\n",
       "      <td>4</td>\n",
       "    </tr>\n",
       "    <tr>\n",
       "      <th>17</th>\n",
       "      <td>1</td>\n",
       "    </tr>\n",
       "    <tr>\n",
       "      <th>20</th>\n",
       "      <td>1</td>\n",
       "    </tr>\n",
       "    <tr>\n",
       "      <th>23</th>\n",
       "      <td>3</td>\n",
       "    </tr>\n",
       "    <tr>\n",
       "      <th>25</th>\n",
       "      <td>1</td>\n",
       "    </tr>\n",
       "    <tr>\n",
       "      <th>34</th>\n",
       "      <td>1</td>\n",
       "    </tr>\n",
       "  </tbody>\n",
       "</table>\n",
       "</div>"
      ],
      "text/plain": [
       "              item_id\n",
       "bought_times         \n",
       "1               38725\n",
       "2                4817\n",
       "3                1262\n",
       "4                 501\n",
       "5                 237\n",
       "6                 126\n",
       "7                  97\n",
       "8                  50\n",
       "9                  37\n",
       "10                 18\n",
       "11                 13\n",
       "12                 17\n",
       "13                  9\n",
       "14                  3\n",
       "15                  8\n",
       "16                  4\n",
       "17                  1\n",
       "20                  1\n",
       "23                  3\n",
       "25                  1\n",
       "34                  1"
      ]
     },
     "execution_count": 67,
     "metadata": {},
     "output_type": "execute_result"
    }
   ],
   "source": [
    "# There are 38725 kinds of iterms that only been bought once\n",
    "# only one item was repeatively bought 34 times\n",
    "item_buytimes.groupby('bought_times').count()\n"
   ]
  },
  {
   "cell_type": "code",
   "execution_count": 69,
   "metadata": {
    "scrolled": false
   },
   "outputs": [
    {
     "data": {
      "text/html": [
       "\n",
       "        <iframe\n",
       "            width=\"1200\"\n",
       "            height=\"600\"\n",
       "            src=\"./bar_reversal_axis.html\"\n",
       "            frameborder=\"0\"\n",
       "            allowfullscreen\n",
       "        ></iframe>\n",
       "        "
      ],
      "text/plain": [
       "<IPython.lib.display.IFrame at 0x11536e518>"
      ]
     },
     "execution_count": 69,
     "metadata": {},
     "output_type": "execute_result"
    }
   ],
   "source": [
    "from pyecharts import options as opts\n",
    "from pyecharts.charts import Bar\n",
    "from pyecharts.faker import Faker\n",
    "\n",
    "c = (\n",
    "    Bar()\n",
    "    .add_xaxis(['bought once','bought twice','three times','four times','five times',\n",
    "               'six times','seven times','eight times','nine times','ten times'][::-1])\n",
    "    .add_yaxis(\"\", [38725, 4817, 1262, 501, 237, 126, 97, 50, 37, 18][::-1])\n",
    "#     .add_yaxis(\"商家B\", Faker.values())\n",
    "    .reversal_axis()\n",
    "    .set_series_opts(label_opts=opts.LabelOpts(position=\"right\"))\n",
    "    .set_global_opts(title_opts=opts.TitleOpts(title=\"the frequency of eath item been bought\"))\n",
    "    .render(\"bar_reversal_axis.html\")\n",
    ")\n",
    "IFrame(src='./bar_reversal_axis.html', width=1200, height=600)\n"
   ]
  },
  {
   "cell_type": "code",
   "execution_count": 70,
   "metadata": {},
   "outputs": [],
   "source": [
    "item_buytimes_stas = pd.DataFrame(item_buytimes.groupby('bought_times').count())\n"
   ]
  },
  {
   "cell_type": "code",
   "execution_count": 72,
   "metadata": {},
   "outputs": [
    {
     "data": {
      "text/plain": [
       "'84.31%'"
      ]
     },
     "execution_count": 72,
     "metadata": {},
     "output_type": "execute_result"
    }
   ],
   "source": [
    "'{:.2%}'.format(item_buytimes_stas.item_id[1]/sum(item_buytimes_stas.item_id))\n"
   ]
  },
  {
   "cell_type": "markdown",
   "metadata": {},
   "source": [
    "84.34%这个数据说明，大部分的销售来源于长尾商品的累积效应。而非爆款商品的带动。"
   ]
  },
  {
   "cell_type": "markdown",
   "metadata": {},
   "source": [
    "# 基于RFM理论找出有价值的用户"
   ]
  },
  {
   "cell_type": "code",
   "execution_count": 73,
   "metadata": {},
   "outputs": [
    {
     "data": {
      "text/html": [
       "<div>\n",
       "<style scoped>\n",
       "    .dataframe tbody tr th:only-of-type {\n",
       "        vertical-align: middle;\n",
       "    }\n",
       "\n",
       "    .dataframe tbody tr th {\n",
       "        vertical-align: top;\n",
       "    }\n",
       "\n",
       "    .dataframe thead th {\n",
       "        text-align: right;\n",
       "    }\n",
       "</style>\n",
       "<table border=\"1\" class=\"dataframe\">\n",
       "  <thead>\n",
       "    <tr style=\"text-align: right;\">\n",
       "      <th></th>\n",
       "      <th>user_id</th>\n",
       "      <th>item_id</th>\n",
       "      <th>category_id</th>\n",
       "      <th>status</th>\n",
       "      <th>date</th>\n",
       "      <th>dayofweek</th>\n",
       "      <th>hour</th>\n",
       "    </tr>\n",
       "  </thead>\n",
       "  <tbody>\n",
       "    <tr>\n",
       "      <th>0</th>\n",
       "      <td>309818</td>\n",
       "      <td>4710383</td>\n",
       "      <td>1792277</td>\n",
       "      <td>pv</td>\n",
       "      <td>2017-11-29</td>\n",
       "      <td>2</td>\n",
       "      <td>20</td>\n",
       "    </tr>\n",
       "    <tr>\n",
       "      <th>1</th>\n",
       "      <td>309818</td>\n",
       "      <td>1421743</td>\n",
       "      <td>4069500</td>\n",
       "      <td>pv</td>\n",
       "      <td>2017-11-29</td>\n",
       "      <td>2</td>\n",
       "      <td>20</td>\n",
       "    </tr>\n",
       "    <tr>\n",
       "      <th>2</th>\n",
       "      <td>309818</td>\n",
       "      <td>800137</td>\n",
       "      <td>1216617</td>\n",
       "      <td>pv</td>\n",
       "      <td>2017-11-29</td>\n",
       "      <td>2</td>\n",
       "      <td>20</td>\n",
       "    </tr>\n",
       "    <tr>\n",
       "      <th>3</th>\n",
       "      <td>309818</td>\n",
       "      <td>2493122</td>\n",
       "      <td>1216617</td>\n",
       "      <td>pv</td>\n",
       "      <td>2017-11-29</td>\n",
       "      <td>2</td>\n",
       "      <td>20</td>\n",
       "    </tr>\n",
       "    <tr>\n",
       "      <th>4</th>\n",
       "      <td>309818</td>\n",
       "      <td>1461532</td>\n",
       "      <td>3102419</td>\n",
       "      <td>pv</td>\n",
       "      <td>2017-11-30</td>\n",
       "      <td>3</td>\n",
       "      <td>7</td>\n",
       "    </tr>\n",
       "  </tbody>\n",
       "</table>\n",
       "</div>"
      ],
      "text/plain": [
       "   user_id  item_id  category_id status        date  dayofweek  hour\n",
       "0   309818  4710383      1792277     pv  2017-11-29          2    20\n",
       "1   309818  1421743      4069500     pv  2017-11-29          2    20\n",
       "2   309818   800137      1216617     pv  2017-11-29          2    20\n",
       "3   309818  2493122      1216617     pv  2017-11-29          2    20\n",
       "4   309818  1461532      3102419     pv  2017-11-30          3     7"
      ]
     },
     "execution_count": 73,
     "metadata": {},
     "output_type": "execute_result"
    }
   ],
   "source": [
    "users.head()\n"
   ]
  },
  {
   "cell_type": "code",
   "execution_count": 74,
   "metadata": {},
   "outputs": [
    {
     "data": {
      "text/plain": [
       "19865"
      ]
     },
     "execution_count": 74,
     "metadata": {},
     "output_type": "execute_result"
    }
   ],
   "source": [
    "# 只看购买buy的记录；这里的 max， 指的是最大的，即最近的一次时间.  \n",
    "# 注意，不是每个用户都进行了最后的buy\n",
    "len(users[users['status']=='buy'].groupby('user_id',as_index=False)['date'].agg(['max']))\n"
   ]
  },
  {
   "cell_type": "code",
   "execution_count": 75,
   "metadata": {},
   "outputs": [
    {
     "data": {
      "text/html": [
       "<div>\n",
       "<style scoped>\n",
       "    .dataframe tbody tr th:only-of-type {\n",
       "        vertical-align: middle;\n",
       "    }\n",
       "\n",
       "    .dataframe tbody tr th {\n",
       "        vertical-align: top;\n",
       "    }\n",
       "\n",
       "    .dataframe thead th {\n",
       "        text-align: right;\n",
       "    }\n",
       "</style>\n",
       "<table border=\"1\" class=\"dataframe\">\n",
       "  <thead>\n",
       "    <tr style=\"text-align: right;\">\n",
       "      <th></th>\n",
       "      <th>user_id</th>\n",
       "      <th>latest_shopping</th>\n",
       "    </tr>\n",
       "  </thead>\n",
       "  <tbody>\n",
       "    <tr>\n",
       "      <th>0</th>\n",
       "      <td>43</td>\n",
       "      <td>2017-12-03</td>\n",
       "    </tr>\n",
       "    <tr>\n",
       "      <th>1</th>\n",
       "      <td>310</td>\n",
       "      <td>2017-12-01</td>\n",
       "    </tr>\n",
       "    <tr>\n",
       "      <th>2</th>\n",
       "      <td>311</td>\n",
       "      <td>2017-12-03</td>\n",
       "    </tr>\n",
       "    <tr>\n",
       "      <th>3</th>\n",
       "      <td>312</td>\n",
       "      <td>2017-12-03</td>\n",
       "    </tr>\n",
       "    <tr>\n",
       "      <th>4</th>\n",
       "      <td>318</td>\n",
       "      <td>2017-11-30</td>\n",
       "    </tr>\n",
       "  </tbody>\n",
       "</table>\n",
       "</div>"
      ],
      "text/plain": [
       "   user_id latest_shopping\n",
       "0       43      2017-12-03\n",
       "1      310      2017-12-01\n",
       "2      311      2017-12-03\n",
       "3      312      2017-12-03\n",
       "4      318      2017-11-30"
      ]
     },
     "execution_count": 75,
     "metadata": {},
     "output_type": "execute_result"
    }
   ],
   "source": [
    "# the most recent shopping record of each user\n",
    "recent_buy = users[users['status']=='buy'].groupby('user_id',as_index=False)['date'].agg(['max'])\n",
    "\n",
    "recent_buy.columns=['latest_shopping']\n",
    "recent_buy.reset_index(inplace=True)\n",
    "\n",
    "recent_buy.head()\n"
   ]
  },
  {
   "cell_type": "code",
   "execution_count": 76,
   "metadata": {},
   "outputs": [
    {
     "data": {
      "text/plain": [
       "array(['2017-11-25', '2017-11-26', '2017-11-27', '2017-11-28',\n",
       "       '2017-11-29', '2017-11-30', '2017-12-01', '2017-12-02',\n",
       "       '2017-12-03'], dtype=object)"
      ]
     },
     "execution_count": 76,
     "metadata": {},
     "output_type": "execute_result"
    }
   ],
   "source": [
    "np.sort(recent_buy.latest_shopping.unique())\n"
   ]
  },
  {
   "cell_type": "code",
   "execution_count": 77,
   "metadata": {},
   "outputs": [],
   "source": [
    "# 构建Rating标准,购物时间越近，评分越高\n",
    "\n",
    "recent_buy['R'] = [0 if '2017-11-25'<= i <='2017-11-27' \n",
    "                   else 1 if '2017-11-28' <= i <= '2017-11-30' \n",
    "                   else 2 for i in recent_buy.latest_shopping]\n",
    "\n",
    "\n"
   ]
  },
  {
   "cell_type": "code",
   "execution_count": 78,
   "metadata": {},
   "outputs": [
    {
     "data": {
      "text/html": [
       "<div>\n",
       "<style scoped>\n",
       "    .dataframe tbody tr th:only-of-type {\n",
       "        vertical-align: middle;\n",
       "    }\n",
       "\n",
       "    .dataframe tbody tr th {\n",
       "        vertical-align: top;\n",
       "    }\n",
       "\n",
       "    .dataframe thead th {\n",
       "        text-align: right;\n",
       "    }\n",
       "</style>\n",
       "<table border=\"1\" class=\"dataframe\">\n",
       "  <thead>\n",
       "    <tr style=\"text-align: right;\">\n",
       "      <th></th>\n",
       "      <th>user_id</th>\n",
       "      <th>latest_shopping</th>\n",
       "      <th>R</th>\n",
       "    </tr>\n",
       "  </thead>\n",
       "  <tbody>\n",
       "    <tr>\n",
       "      <th>0</th>\n",
       "      <td>43</td>\n",
       "      <td>2017-12-03</td>\n",
       "      <td>2</td>\n",
       "    </tr>\n",
       "    <tr>\n",
       "      <th>1</th>\n",
       "      <td>310</td>\n",
       "      <td>2017-12-01</td>\n",
       "      <td>2</td>\n",
       "    </tr>\n",
       "    <tr>\n",
       "      <th>2</th>\n",
       "      <td>311</td>\n",
       "      <td>2017-12-03</td>\n",
       "      <td>2</td>\n",
       "    </tr>\n",
       "    <tr>\n",
       "      <th>3</th>\n",
       "      <td>312</td>\n",
       "      <td>2017-12-03</td>\n",
       "      <td>2</td>\n",
       "    </tr>\n",
       "    <tr>\n",
       "      <th>4</th>\n",
       "      <td>318</td>\n",
       "      <td>2017-11-30</td>\n",
       "      <td>1</td>\n",
       "    </tr>\n",
       "  </tbody>\n",
       "</table>\n",
       "</div>"
      ],
      "text/plain": [
       "   user_id latest_shopping  R\n",
       "0       43      2017-12-03  2\n",
       "1      310      2017-12-01  2\n",
       "2      311      2017-12-03  2\n",
       "3      312      2017-12-03  2\n",
       "4      318      2017-11-30  1"
      ]
     },
     "execution_count": 78,
     "metadata": {},
     "output_type": "execute_result"
    }
   ],
   "source": [
    "recent_buy.head()\n"
   ]
  },
  {
   "cell_type": "code",
   "execution_count": 79,
   "metadata": {},
   "outputs": [
    {
     "data": {
      "text/html": [
       "<div>\n",
       "<style scoped>\n",
       "    .dataframe tbody tr th:only-of-type {\n",
       "        vertical-align: middle;\n",
       "    }\n",
       "\n",
       "    .dataframe tbody tr th {\n",
       "        vertical-align: top;\n",
       "    }\n",
       "\n",
       "    .dataframe thead th {\n",
       "        text-align: right;\n",
       "    }\n",
       "</style>\n",
       "<table border=\"1\" class=\"dataframe\">\n",
       "  <thead>\n",
       "    <tr style=\"text-align: right;\">\n",
       "      <th></th>\n",
       "      <th>user_id</th>\n",
       "      <th>item_id</th>\n",
       "    </tr>\n",
       "  </thead>\n",
       "  <tbody>\n",
       "    <tr>\n",
       "      <th>0</th>\n",
       "      <td>43</td>\n",
       "      <td>6</td>\n",
       "    </tr>\n",
       "    <tr>\n",
       "      <th>1</th>\n",
       "      <td>310</td>\n",
       "      <td>1</td>\n",
       "    </tr>\n",
       "    <tr>\n",
       "      <th>2</th>\n",
       "      <td>311</td>\n",
       "      <td>9</td>\n",
       "    </tr>\n",
       "    <tr>\n",
       "      <th>3</th>\n",
       "      <td>312</td>\n",
       "      <td>8</td>\n",
       "    </tr>\n",
       "    <tr>\n",
       "      <th>4</th>\n",
       "      <td>318</td>\n",
       "      <td>2</td>\n",
       "    </tr>\n",
       "  </tbody>\n",
       "</table>\n",
       "</div>"
      ],
      "text/plain": [
       "   user_id  item_id\n",
       "0       43        6\n",
       "1      310        1\n",
       "2      311        9\n",
       "3      312        8\n",
       "4      318        2"
      ]
     },
     "execution_count": 79,
     "metadata": {},
     "output_type": "execute_result"
    }
   ],
   "source": [
    "# 有过购物记录的users，每人总共购买了多少商品\n",
    "shopping_lots = users[users['status']=='buy'].groupby('user_id', as_index=False).item_id.count()\n",
    "\n",
    "shopping_lots.head()\n"
   ]
  },
  {
   "cell_type": "code",
   "execution_count": 80,
   "metadata": {},
   "outputs": [
    {
     "data": {
      "text/plain": [
       "array([ 1,  2,  3,  4,  5,  6,  7,  8,  9, 10, 11, 12, 13, 14, 15, 16, 17,\n",
       "       18, 19, 20, 21, 22, 23, 24, 25, 26, 27, 28, 30, 31, 32, 33, 35, 36,\n",
       "       39, 40, 43, 45, 92])"
      ]
     },
     "execution_count": 80,
     "metadata": {},
     "output_type": "execute_result"
    }
   ],
   "source": [
    "np.sort(shopping_lots.item_id.unique())\n"
   ]
  },
  {
   "cell_type": "code",
   "execution_count": 81,
   "metadata": {},
   "outputs": [],
   "source": [
    "# rate users based on their shopping lots\n",
    "shopping_lots['F'] = [ 5 if i >= 50 \n",
    "                     else 4 if 49 >= i >= 40\n",
    "                     else 3 if 39 >= i >= 30\n",
    "                     else 2 if 29 >= i >= 20\n",
    "                     else 1 for i in shopping_lots.item_id]\n"
   ]
  },
  {
   "cell_type": "code",
   "execution_count": 82,
   "metadata": {},
   "outputs": [
    {
     "data": {
      "text/html": [
       "<div>\n",
       "<style scoped>\n",
       "    .dataframe tbody tr th:only-of-type {\n",
       "        vertical-align: middle;\n",
       "    }\n",
       "\n",
       "    .dataframe tbody tr th {\n",
       "        vertical-align: top;\n",
       "    }\n",
       "\n",
       "    .dataframe thead th {\n",
       "        text-align: right;\n",
       "    }\n",
       "</style>\n",
       "<table border=\"1\" class=\"dataframe\">\n",
       "  <thead>\n",
       "    <tr style=\"text-align: right;\">\n",
       "      <th></th>\n",
       "      <th>user_id</th>\n",
       "      <th>item_id</th>\n",
       "      <th>F</th>\n",
       "    </tr>\n",
       "  </thead>\n",
       "  <tbody>\n",
       "    <tr>\n",
       "      <th>0</th>\n",
       "      <td>43</td>\n",
       "      <td>6</td>\n",
       "      <td>1</td>\n",
       "    </tr>\n",
       "    <tr>\n",
       "      <th>1</th>\n",
       "      <td>310</td>\n",
       "      <td>1</td>\n",
       "      <td>1</td>\n",
       "    </tr>\n",
       "    <tr>\n",
       "      <th>2</th>\n",
       "      <td>311</td>\n",
       "      <td>9</td>\n",
       "      <td>1</td>\n",
       "    </tr>\n",
       "    <tr>\n",
       "      <th>3</th>\n",
       "      <td>312</td>\n",
       "      <td>8</td>\n",
       "      <td>1</td>\n",
       "    </tr>\n",
       "    <tr>\n",
       "      <th>4</th>\n",
       "      <td>318</td>\n",
       "      <td>2</td>\n",
       "      <td>1</td>\n",
       "    </tr>\n",
       "  </tbody>\n",
       "</table>\n",
       "</div>"
      ],
      "text/plain": [
       "   user_id  item_id  F\n",
       "0       43        6  1\n",
       "1      310        1  1\n",
       "2      311        9  1\n",
       "3      312        8  1\n",
       "4      318        2  1"
      ]
     },
     "execution_count": 82,
     "metadata": {},
     "output_type": "execute_result"
    }
   ],
   "source": [
    "shopping_lots.head()\n"
   ]
  },
  {
   "cell_type": "code",
   "execution_count": 83,
   "metadata": {},
   "outputs": [],
   "source": [
    "rmf = pd.merge(recent_buy, shopping_lots, on='user_id')[['user_id','latest_shopping','R','F']]\n"
   ]
  },
  {
   "cell_type": "code",
   "execution_count": 84,
   "metadata": {},
   "outputs": [
    {
     "data": {
      "text/html": [
       "<div>\n",
       "<style scoped>\n",
       "    .dataframe tbody tr th:only-of-type {\n",
       "        vertical-align: middle;\n",
       "    }\n",
       "\n",
       "    .dataframe tbody tr th {\n",
       "        vertical-align: top;\n",
       "    }\n",
       "\n",
       "    .dataframe thead th {\n",
       "        text-align: right;\n",
       "    }\n",
       "</style>\n",
       "<table border=\"1\" class=\"dataframe\">\n",
       "  <thead>\n",
       "    <tr style=\"text-align: right;\">\n",
       "      <th></th>\n",
       "      <th>user_id</th>\n",
       "      <th>latest_shopping</th>\n",
       "      <th>R</th>\n",
       "      <th>F</th>\n",
       "    </tr>\n",
       "  </thead>\n",
       "  <tbody>\n",
       "    <tr>\n",
       "      <th>0</th>\n",
       "      <td>43</td>\n",
       "      <td>2017-12-03</td>\n",
       "      <td>2</td>\n",
       "      <td>1</td>\n",
       "    </tr>\n",
       "    <tr>\n",
       "      <th>1</th>\n",
       "      <td>310</td>\n",
       "      <td>2017-12-01</td>\n",
       "      <td>2</td>\n",
       "      <td>1</td>\n",
       "    </tr>\n",
       "    <tr>\n",
       "      <th>2</th>\n",
       "      <td>311</td>\n",
       "      <td>2017-12-03</td>\n",
       "      <td>2</td>\n",
       "      <td>1</td>\n",
       "    </tr>\n",
       "    <tr>\n",
       "      <th>3</th>\n",
       "      <td>312</td>\n",
       "      <td>2017-12-03</td>\n",
       "      <td>2</td>\n",
       "      <td>1</td>\n",
       "    </tr>\n",
       "    <tr>\n",
       "      <th>4</th>\n",
       "      <td>318</td>\n",
       "      <td>2017-11-30</td>\n",
       "      <td>1</td>\n",
       "      <td>1</td>\n",
       "    </tr>\n",
       "  </tbody>\n",
       "</table>\n",
       "</div>"
      ],
      "text/plain": [
       "   user_id latest_shopping  R  F\n",
       "0       43      2017-12-03  2  1\n",
       "1      310      2017-12-01  2  1\n",
       "2      311      2017-12-03  2  1\n",
       "3      312      2017-12-03  2  1\n",
       "4      318      2017-11-30  1  1"
      ]
     },
     "execution_count": 84,
     "metadata": {},
     "output_type": "execute_result"
    }
   ],
   "source": [
    "rmf.head()"
   ]
  },
  {
   "cell_type": "code",
   "execution_count": 85,
   "metadata": {},
   "outputs": [
    {
     "data": {
      "text/html": [
       "<div>\n",
       "<style scoped>\n",
       "    .dataframe tbody tr th:only-of-type {\n",
       "        vertical-align: middle;\n",
       "    }\n",
       "\n",
       "    .dataframe tbody tr th {\n",
       "        vertical-align: top;\n",
       "    }\n",
       "\n",
       "    .dataframe thead th {\n",
       "        text-align: right;\n",
       "    }\n",
       "</style>\n",
       "<table border=\"1\" class=\"dataframe\">\n",
       "  <thead>\n",
       "    <tr style=\"text-align: right;\">\n",
       "      <th></th>\n",
       "      <th>user_id</th>\n",
       "      <th>latest_shopping</th>\n",
       "      <th>R</th>\n",
       "      <th>F</th>\n",
       "      <th>R+F</th>\n",
       "    </tr>\n",
       "  </thead>\n",
       "  <tbody>\n",
       "    <tr>\n",
       "      <th>0</th>\n",
       "      <td>43</td>\n",
       "      <td>2017-12-03</td>\n",
       "      <td>2</td>\n",
       "      <td>1</td>\n",
       "      <td>3</td>\n",
       "    </tr>\n",
       "    <tr>\n",
       "      <th>1</th>\n",
       "      <td>310</td>\n",
       "      <td>2017-12-01</td>\n",
       "      <td>2</td>\n",
       "      <td>1</td>\n",
       "      <td>3</td>\n",
       "    </tr>\n",
       "    <tr>\n",
       "      <th>2</th>\n",
       "      <td>311</td>\n",
       "      <td>2017-12-03</td>\n",
       "      <td>2</td>\n",
       "      <td>1</td>\n",
       "      <td>3</td>\n",
       "    </tr>\n",
       "    <tr>\n",
       "      <th>3</th>\n",
       "      <td>312</td>\n",
       "      <td>2017-12-03</td>\n",
       "      <td>2</td>\n",
       "      <td>1</td>\n",
       "      <td>3</td>\n",
       "    </tr>\n",
       "    <tr>\n",
       "      <th>4</th>\n",
       "      <td>318</td>\n",
       "      <td>2017-11-30</td>\n",
       "      <td>1</td>\n",
       "      <td>1</td>\n",
       "      <td>2</td>\n",
       "    </tr>\n",
       "  </tbody>\n",
       "</table>\n",
       "</div>"
      ],
      "text/plain": [
       "   user_id latest_shopping  R  F  R+F\n",
       "0       43      2017-12-03  2  1    3\n",
       "1      310      2017-12-01  2  1    3\n",
       "2      311      2017-12-03  2  1    3\n",
       "3      312      2017-12-03  2  1    3\n",
       "4      318      2017-11-30  1  1    2"
      ]
     },
     "execution_count": 85,
     "metadata": {},
     "output_type": "execute_result"
    }
   ],
   "source": [
    "rmf['R+F'] = rmf['R']+rmf['F']\n",
    "\n",
    "rmf.head()\n"
   ]
  },
  {
   "cell_type": "code",
   "execution_count": 86,
   "metadata": {},
   "outputs": [
    {
     "data": {
      "text/plain": [
       "3    0.578656\n",
       "2    0.265039\n",
       "1    0.154040\n",
       "4    0.001712\n",
       "5    0.000352\n",
       "6    0.000151\n",
       "7    0.000050\n",
       "Name: R+F, dtype: float64"
      ]
     },
     "execution_count": 86,
     "metadata": {},
     "output_type": "execute_result"
    }
   ],
   "source": [
    "rmf['R+F'].value_counts(normalize=True)\n"
   ]
  },
  {
   "cell_type": "code",
   "execution_count": 87,
   "metadata": {},
   "outputs": [
    {
     "data": {
      "text/plain": [
       "0.13157894736842105"
      ]
     },
     "execution_count": 87,
     "metadata": {},
     "output_type": "execute_result"
    }
   ],
   "source": [
    "1.5/11.4\n"
   ]
  },
  {
   "cell_type": "code",
   "execution_count": 88,
   "metadata": {},
   "outputs": [
    {
     "data": {
      "text/plain": [
       "0.32727272727272727"
      ]
     },
     "execution_count": 88,
     "metadata": {},
     "output_type": "execute_result"
    }
   ],
   "source": [
    "7.2/22\n"
   ]
  },
  {
   "cell_type": "code",
   "execution_count": null,
   "metadata": {},
   "outputs": [],
   "source": []
  },
  {
   "cell_type": "code",
   "execution_count": null,
   "metadata": {},
   "outputs": [],
   "source": []
  },
  {
   "cell_type": "code",
   "execution_count": null,
   "metadata": {},
   "outputs": [],
   "source": []
  },
  {
   "cell_type": "code",
   "execution_count": null,
   "metadata": {},
   "outputs": [],
   "source": []
  },
  {
   "cell_type": "code",
   "execution_count": null,
   "metadata": {},
   "outputs": [],
   "source": []
  },
  {
   "cell_type": "code",
   "execution_count": null,
   "metadata": {},
   "outputs": [],
   "source": []
  },
  {
   "cell_type": "code",
   "execution_count": null,
   "metadata": {},
   "outputs": [],
   "source": []
  },
  {
   "cell_type": "code",
   "execution_count": null,
   "metadata": {},
   "outputs": [],
   "source": []
  },
  {
   "cell_type": "code",
   "execution_count": null,
   "metadata": {},
   "outputs": [],
   "source": []
  },
  {
   "cell_type": "code",
   "execution_count": null,
   "metadata": {},
   "outputs": [],
   "source": []
  },
  {
   "cell_type": "code",
   "execution_count": null,
   "metadata": {},
   "outputs": [],
   "source": []
  }
 ],
 "metadata": {
  "kernelspec": {
   "display_name": "Python 3",
   "language": "python",
   "name": "python3"
  },
  "language_info": {
   "codemirror_mode": {
    "name": "ipython",
    "version": 3
   },
   "file_extension": ".py",
   "mimetype": "text/x-python",
   "name": "python",
   "nbconvert_exporter": "python",
   "pygments_lexer": "ipython3",
   "version": "3.7.3"
  }
 },
 "nbformat": 4,
 "nbformat_minor": 2
}
