{
 "cells": [
  {
   "cell_type": "code",
   "execution_count": 1,
   "metadata": {},
   "outputs": [],
   "source": [
    "import pandas as pd\n",
    "import numpy as np"
   ]
  },
  {
   "cell_type": "code",
   "execution_count": 2,
   "metadata": {},
   "outputs": [],
   "source": [
    "df = pd.read_csv('./users_2m.csv')"
   ]
  },
  {
   "cell_type": "code",
   "execution_count": 3,
   "metadata": {},
   "outputs": [],
   "source": [
    "df.drop('Unnamed: 0', axis=1, inplace=True)"
   ]
  },
  {
   "cell_type": "code",
   "execution_count": 4,
   "metadata": {},
   "outputs": [
    {
     "data": {
      "text/html": [
       "<div>\n",
       "<style scoped>\n",
       "    .dataframe tbody tr th:only-of-type {\n",
       "        vertical-align: middle;\n",
       "    }\n",
       "\n",
       "    .dataframe tbody tr th {\n",
       "        vertical-align: top;\n",
       "    }\n",
       "\n",
       "    .dataframe thead th {\n",
       "        text-align: right;\n",
       "    }\n",
       "</style>\n",
       "<table border=\"1\" class=\"dataframe\">\n",
       "  <thead>\n",
       "    <tr style=\"text-align: right;\">\n",
       "      <th></th>\n",
       "      <th>user_id</th>\n",
       "      <th>item_id</th>\n",
       "      <th>category_id</th>\n",
       "      <th>status</th>\n",
       "      <th>date</th>\n",
       "      <th>dayofweek</th>\n",
       "      <th>hour</th>\n",
       "    </tr>\n",
       "  </thead>\n",
       "  <tbody>\n",
       "    <tr>\n",
       "      <th>0</th>\n",
       "      <td>309818</td>\n",
       "      <td>4710383</td>\n",
       "      <td>1792277</td>\n",
       "      <td>pv</td>\n",
       "      <td>2017-11-29</td>\n",
       "      <td>2</td>\n",
       "      <td>20</td>\n",
       "    </tr>\n",
       "    <tr>\n",
       "      <th>1</th>\n",
       "      <td>309818</td>\n",
       "      <td>1421743</td>\n",
       "      <td>4069500</td>\n",
       "      <td>pv</td>\n",
       "      <td>2017-11-29</td>\n",
       "      <td>2</td>\n",
       "      <td>20</td>\n",
       "    </tr>\n",
       "    <tr>\n",
       "      <th>2</th>\n",
       "      <td>309818</td>\n",
       "      <td>800137</td>\n",
       "      <td>1216617</td>\n",
       "      <td>pv</td>\n",
       "      <td>2017-11-29</td>\n",
       "      <td>2</td>\n",
       "      <td>20</td>\n",
       "    </tr>\n",
       "    <tr>\n",
       "      <th>3</th>\n",
       "      <td>309818</td>\n",
       "      <td>2493122</td>\n",
       "      <td>1216617</td>\n",
       "      <td>pv</td>\n",
       "      <td>2017-11-29</td>\n",
       "      <td>2</td>\n",
       "      <td>20</td>\n",
       "    </tr>\n",
       "    <tr>\n",
       "      <th>4</th>\n",
       "      <td>309818</td>\n",
       "      <td>1461532</td>\n",
       "      <td>3102419</td>\n",
       "      <td>pv</td>\n",
       "      <td>2017-11-30</td>\n",
       "      <td>3</td>\n",
       "      <td>7</td>\n",
       "    </tr>\n",
       "  </tbody>\n",
       "</table>\n",
       "</div>"
      ],
      "text/plain": [
       "   user_id  item_id  category_id status        date  dayofweek  hour\n",
       "0   309818  4710383      1792277     pv  2017-11-29          2    20\n",
       "1   309818  1421743      4069500     pv  2017-11-29          2    20\n",
       "2   309818   800137      1216617     pv  2017-11-29          2    20\n",
       "3   309818  2493122      1216617     pv  2017-11-29          2    20\n",
       "4   309818  1461532      3102419     pv  2017-11-30          3     7"
      ]
     },
     "execution_count": 4,
     "metadata": {},
     "output_type": "execute_result"
    }
   ],
   "source": [
    "df.head()"
   ]
  },
  {
   "cell_type": "code",
   "execution_count": 5,
   "metadata": {},
   "outputs": [
    {
     "data": {
      "text/plain": [
       "Index(['user_id', 'item_id', 'category_id', 'status', 'date', 'dayofweek',\n",
       "       'hour'],\n",
       "      dtype='object')"
      ]
     },
     "execution_count": 5,
     "metadata": {},
     "output_type": "execute_result"
    }
   ],
   "source": [
    "df.columns"
   ]
  },
  {
   "cell_type": "code",
   "execution_count": 6,
   "metadata": {},
   "outputs": [
    {
     "data": {
      "text/plain": [
       "array(['pv', 'buy', 'fav', 'cart'], dtype=object)"
      ]
     },
     "execution_count": 6,
     "metadata": {},
     "output_type": "execute_result"
    }
   ],
   "source": [
    "df.status.unique()"
   ]
  },
  {
   "cell_type": "markdown",
   "metadata": {},
   "source": [
    "find out users_buy "
   ]
  },
  {
   "cell_type": "markdown",
   "metadata": {},
   "source": [
    "data engineering\n",
    "1. unique user_id\n",
    "2. count how many item and category of each user\n",
    "3. count how many status does each user have\n",
    "4. categorize time and date, logic, RMF\n",
    "5. find or create a target for ml"
   ]
  },
  {
   "cell_type": "code",
   "execution_count": 7,
   "metadata": {},
   "outputs": [
    {
     "data": {
      "text/plain": [
       "0.9130434782608695"
      ]
     },
     "execution_count": 7,
     "metadata": {},
     "output_type": "execute_result"
    }
   ],
   "source": [
    "df[df['user_id']==309818].item_id.nunique()/len(df[df['user_id']==309818].item_id)"
   ]
  },
  {
   "cell_type": "markdown",
   "metadata": {},
   "source": [
    "我需要的是每个用户id看过多少item,category,"
   ]
  },
  {
   "cell_type": "code",
   "execution_count": 8,
   "metadata": {},
   "outputs": [
    {
     "data": {
      "text/plain": [
       "29233"
      ]
     },
     "execution_count": 8,
     "metadata": {},
     "output_type": "execute_result"
    }
   ],
   "source": [
    "len(df['user_id'].unique())"
   ]
  },
  {
   "cell_type": "code",
   "execution_count": null,
   "metadata": {},
   "outputs": [],
   "source": [
    "user_list = list(df['user_id'].unique())"
   ]
  },
  {
   "cell_type": "code",
   "execution_count": 10,
   "metadata": {},
   "outputs": [],
   "source": [
    "item_numb = []\n",
    "for i in user_list:\n",
    "    item_numb.append({i:df[df['user_id']==i].item_id.nunique()})\n",
    "\n",
    "keys = []\n",
    "for i in item_numb:\n",
    "    keys.append(list(i.keys()))\n",
    "\n",
    "keys=[i[0] for i in keys]\n",
    "\n",
    "len(keys)\n",
    "\n",
    "values = []\n",
    "for i in item_numb:\n",
    "    values.append(list(i.values()))\n",
    "\n",
    "values = [i[0] for i in values]\n",
    "\n",
    "len(values)"
   ]
  },
  {
   "cell_type": "code",
   "execution_count": 96,
   "metadata": {},
   "outputs": [],
   "source": [
    "id_item = pd.DataFrame(zip(keys, values), columns=['id','items'])"
   ]
  },
  {
   "cell_type": "code",
   "execution_count": 97,
   "metadata": {},
   "outputs": [],
   "source": [
    "user_list = list(df['user_id'].unique())\n",
    "\n",
    "list_dict = []\n",
    "for i in user_list:\n",
    "    list_dict.append({i:df[df['user_id']==i].category_id.nunique()})\n",
    "\n",
    "keys = []\n",
    "for i in list_dict:\n",
    "    keys.append(list(i.keys()))\n",
    "\n",
    "keys=[i[0] for i in keys]\n",
    "\n",
    "values = []\n",
    "for i in list_dict:\n",
    "    values.append(list(i.values()))\n",
    "\n",
    "values = [i[0] for i in values]"
   ]
  },
  {
   "cell_type": "code",
   "execution_count": 102,
   "metadata": {},
   "outputs": [],
   "source": [
    "id_cate = pd.DataFrame(zip(keys, values), columns=['id','category'])"
   ]
  },
  {
   "cell_type": "code",
   "execution_count": 104,
   "metadata": {},
   "outputs": [],
   "source": [
    "data = id_item.merge(id_cate, on='id')"
   ]
  },
  {
   "cell_type": "markdown",
   "metadata": {},
   "source": [
    "接下来我需要每一个用户的状态数值，多少pv,cart..."
   ]
  },
  {
   "cell_type": "code",
   "execution_count": 105,
   "metadata": {},
   "outputs": [
    {
     "data": {
      "text/html": [
       "<div>\n",
       "<style scoped>\n",
       "    .dataframe tbody tr th:only-of-type {\n",
       "        vertical-align: middle;\n",
       "    }\n",
       "\n",
       "    .dataframe tbody tr th {\n",
       "        vertical-align: top;\n",
       "    }\n",
       "\n",
       "    .dataframe thead th {\n",
       "        text-align: right;\n",
       "    }\n",
       "</style>\n",
       "<table border=\"1\" class=\"dataframe\">\n",
       "  <thead>\n",
       "    <tr style=\"text-align: right;\">\n",
       "      <th></th>\n",
       "      <th>user_id</th>\n",
       "      <th>item_id</th>\n",
       "      <th>category_id</th>\n",
       "      <th>status</th>\n",
       "      <th>date</th>\n",
       "      <th>dayofweek</th>\n",
       "      <th>hour</th>\n",
       "    </tr>\n",
       "  </thead>\n",
       "  <tbody>\n",
       "    <tr>\n",
       "      <th>0</th>\n",
       "      <td>309818</td>\n",
       "      <td>4710383</td>\n",
       "      <td>1792277</td>\n",
       "      <td>pv</td>\n",
       "      <td>2017-11-29</td>\n",
       "      <td>2</td>\n",
       "      <td>20</td>\n",
       "    </tr>\n",
       "    <tr>\n",
       "      <th>1</th>\n",
       "      <td>309818</td>\n",
       "      <td>1421743</td>\n",
       "      <td>4069500</td>\n",
       "      <td>pv</td>\n",
       "      <td>2017-11-29</td>\n",
       "      <td>2</td>\n",
       "      <td>20</td>\n",
       "    </tr>\n",
       "    <tr>\n",
       "      <th>2</th>\n",
       "      <td>309818</td>\n",
       "      <td>800137</td>\n",
       "      <td>1216617</td>\n",
       "      <td>pv</td>\n",
       "      <td>2017-11-29</td>\n",
       "      <td>2</td>\n",
       "      <td>20</td>\n",
       "    </tr>\n",
       "    <tr>\n",
       "      <th>3</th>\n",
       "      <td>309818</td>\n",
       "      <td>2493122</td>\n",
       "      <td>1216617</td>\n",
       "      <td>pv</td>\n",
       "      <td>2017-11-29</td>\n",
       "      <td>2</td>\n",
       "      <td>20</td>\n",
       "    </tr>\n",
       "    <tr>\n",
       "      <th>4</th>\n",
       "      <td>309818</td>\n",
       "      <td>1461532</td>\n",
       "      <td>3102419</td>\n",
       "      <td>pv</td>\n",
       "      <td>2017-11-30</td>\n",
       "      <td>3</td>\n",
       "      <td>7</td>\n",
       "    </tr>\n",
       "  </tbody>\n",
       "</table>\n",
       "</div>"
      ],
      "text/plain": [
       "   user_id  item_id  category_id status        date  dayofweek  hour\n",
       "0   309818  4710383      1792277     pv  2017-11-29          2    20\n",
       "1   309818  1421743      4069500     pv  2017-11-29          2    20\n",
       "2   309818   800137      1216617     pv  2017-11-29          2    20\n",
       "3   309818  2493122      1216617     pv  2017-11-29          2    20\n",
       "4   309818  1461532      3102419     pv  2017-11-30          3     7"
      ]
     },
     "execution_count": 105,
     "metadata": {},
     "output_type": "execute_result"
    }
   ],
   "source": [
    "df.head()"
   ]
  },
  {
   "cell_type": "code",
   "execution_count": 117,
   "metadata": {},
   "outputs": [
    {
     "data": {
      "text/plain": [
       "[0.8840579710144928,\n",
       " 0.08695652173913043,\n",
       " 0.014492753623188406,\n",
       " 0.014492753623188406]"
      ]
     },
     "execution_count": 117,
     "metadata": {},
     "output_type": "execute_result"
    }
   ],
   "source": [
    "list(df[df['user_id']==309818].status.value_counts())"
   ]
  },
  {
   "cell_type": "code",
   "execution_count": 121,
   "metadata": {},
   "outputs": [
    {
     "data": {
      "text/plain": [
       "user_id\n",
       "34         46\n",
       "42         57\n",
       "43        144\n",
       "310        72\n",
       "311        44\n",
       "         ... \n",
       "445050     16\n",
       "445061     77\n",
       "445062    141\n",
       "445067     54\n",
       "445081     61\n",
       "Name: status, Length: 29233, dtype: int64"
      ]
     },
     "execution_count": 121,
     "metadata": {},
     "output_type": "execute_result"
    }
   ],
   "source": [
    "status.groupby('user_id').status.count()"
   ]
  },
  {
   "cell_type": "code",
   "execution_count": 110,
   "metadata": {},
   "outputs": [
    {
     "data": {
      "text/html": [
       "<div>\n",
       "<style scoped>\n",
       "    .dataframe tbody tr th:only-of-type {\n",
       "        vertical-align: middle;\n",
       "    }\n",
       "\n",
       "    .dataframe tbody tr th {\n",
       "        vertical-align: top;\n",
       "    }\n",
       "\n",
       "    .dataframe thead th {\n",
       "        text-align: right;\n",
       "    }\n",
       "</style>\n",
       "<table border=\"1\" class=\"dataframe\">\n",
       "  <thead>\n",
       "    <tr style=\"text-align: right;\">\n",
       "      <th></th>\n",
       "      <th>user_id</th>\n",
       "      <th>status</th>\n",
       "    </tr>\n",
       "  </thead>\n",
       "  <tbody>\n",
       "    <tr>\n",
       "      <th>0</th>\n",
       "      <td>309818</td>\n",
       "      <td>pv</td>\n",
       "    </tr>\n",
       "    <tr>\n",
       "      <th>1</th>\n",
       "      <td>309818</td>\n",
       "      <td>pv</td>\n",
       "    </tr>\n",
       "    <tr>\n",
       "      <th>2</th>\n",
       "      <td>309818</td>\n",
       "      <td>pv</td>\n",
       "    </tr>\n",
       "    <tr>\n",
       "      <th>3</th>\n",
       "      <td>309818</td>\n",
       "      <td>pv</td>\n",
       "    </tr>\n",
       "    <tr>\n",
       "      <th>4</th>\n",
       "      <td>309818</td>\n",
       "      <td>pv</td>\n",
       "    </tr>\n",
       "    <tr>\n",
       "      <th>...</th>\n",
       "      <td>...</td>\n",
       "      <td>...</td>\n",
       "    </tr>\n",
       "    <tr>\n",
       "      <th>2748961</th>\n",
       "      <td>445081</td>\n",
       "      <td>pv</td>\n",
       "    </tr>\n",
       "    <tr>\n",
       "      <th>2748962</th>\n",
       "      <td>445081</td>\n",
       "      <td>pv</td>\n",
       "    </tr>\n",
       "    <tr>\n",
       "      <th>2748963</th>\n",
       "      <td>445081</td>\n",
       "      <td>pv</td>\n",
       "    </tr>\n",
       "    <tr>\n",
       "      <th>2748964</th>\n",
       "      <td>445081</td>\n",
       "      <td>pv</td>\n",
       "    </tr>\n",
       "    <tr>\n",
       "      <th>2748965</th>\n",
       "      <td>445081</td>\n",
       "      <td>pv</td>\n",
       "    </tr>\n",
       "  </tbody>\n",
       "</table>\n",
       "<p>2748966 rows × 2 columns</p>\n",
       "</div>"
      ],
      "text/plain": [
       "         user_id status\n",
       "0         309818     pv\n",
       "1         309818     pv\n",
       "2         309818     pv\n",
       "3         309818     pv\n",
       "4         309818     pv\n",
       "...          ...    ...\n",
       "2748961   445081     pv\n",
       "2748962   445081     pv\n",
       "2748963   445081     pv\n",
       "2748964   445081     pv\n",
       "2748965   445081     pv\n",
       "\n",
       "[2748966 rows x 2 columns]"
      ]
     },
     "execution_count": 110,
     "metadata": {},
     "output_type": "execute_result"
    }
   ],
   "source": [
    "status"
   ]
  },
  {
   "cell_type": "code",
   "execution_count": 129,
   "metadata": {},
   "outputs": [
    {
     "data": {
      "text/plain": [
       "{'pv': 61, 'cart': 6, 'buy': 1, 'fav': 1}"
      ]
     },
     "execution_count": 129,
     "metadata": {},
     "output_type": "execute_result"
    }
   ],
   "source": [
    "dict(status[status['user_id']==309818].status.value_counts())"
   ]
  },
  {
   "cell_type": "code",
   "execution_count": null,
   "metadata": {},
   "outputs": [],
   "source": [
    "stats_count =[]\n",
    "for i in user_list:\n",
    "    stats_count.append(dict(status[status['user_id']==i].status.value_counts()))"
   ]
  },
  {
   "cell_type": "code",
   "execution_count": null,
   "metadata": {},
   "outputs": [],
   "source": []
  }
 ],
 "metadata": {
  "kernelspec": {
   "display_name": "Python 3",
   "language": "python",
   "name": "python3"
  },
  "language_info": {
   "codemirror_mode": {
    "name": "ipython",
    "version": 3
   },
   "file_extension": ".py",
   "mimetype": "text/x-python",
   "name": "python",
   "nbconvert_exporter": "python",
   "pygments_lexer": "ipython3",
   "version": "3.7.4"
  }
 },
 "nbformat": 4,
 "nbformat_minor": 4
}
