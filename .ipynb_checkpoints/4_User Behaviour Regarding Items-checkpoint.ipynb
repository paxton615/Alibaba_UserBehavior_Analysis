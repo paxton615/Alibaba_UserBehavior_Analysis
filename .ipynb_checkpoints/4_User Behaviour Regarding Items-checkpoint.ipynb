{
 "cells": [
  {
   "cell_type": "markdown",
   "metadata": {},
   "source": [
    "## 4.User Behaviour Regarding Items"
   ]
  },
  {
   "cell_type": "code",
   "execution_count": 22,
   "metadata": {},
   "outputs": [],
   "source": [
    "import pandas as pd\n",
    "import numpy as np\n",
    "from IPython.display import Image"
   ]
  },
  {
   "cell_type": "code",
   "execution_count": 13,
   "metadata": {},
   "outputs": [
    {
     "data": {
      "text/html": [
       "<div>\n",
       "<style scoped>\n",
       "    .dataframe tbody tr th:only-of-type {\n",
       "        vertical-align: middle;\n",
       "    }\n",
       "\n",
       "    .dataframe tbody tr th {\n",
       "        vertical-align: top;\n",
       "    }\n",
       "\n",
       "    .dataframe thead th {\n",
       "        text-align: right;\n",
       "    }\n",
       "</style>\n",
       "<table border=\"1\" class=\"dataframe\">\n",
       "  <thead>\n",
       "    <tr style=\"text-align: right;\">\n",
       "      <th></th>\n",
       "      <th>user_id</th>\n",
       "      <th>item_id</th>\n",
       "      <th>category_id</th>\n",
       "      <th>status</th>\n",
       "      <th>date</th>\n",
       "      <th>dayofweek</th>\n",
       "      <th>hour</th>\n",
       "    </tr>\n",
       "  </thead>\n",
       "  <tbody>\n",
       "    <tr>\n",
       "      <th>0</th>\n",
       "      <td>309818</td>\n",
       "      <td>4710383</td>\n",
       "      <td>1792277</td>\n",
       "      <td>pv</td>\n",
       "      <td>2017-11-29</td>\n",
       "      <td>2</td>\n",
       "      <td>20</td>\n",
       "    </tr>\n",
       "    <tr>\n",
       "      <th>1</th>\n",
       "      <td>309818</td>\n",
       "      <td>1421743</td>\n",
       "      <td>4069500</td>\n",
       "      <td>pv</td>\n",
       "      <td>2017-11-29</td>\n",
       "      <td>2</td>\n",
       "      <td>20</td>\n",
       "    </tr>\n",
       "    <tr>\n",
       "      <th>2</th>\n",
       "      <td>309818</td>\n",
       "      <td>800137</td>\n",
       "      <td>1216617</td>\n",
       "      <td>pv</td>\n",
       "      <td>2017-11-29</td>\n",
       "      <td>2</td>\n",
       "      <td>20</td>\n",
       "    </tr>\n",
       "    <tr>\n",
       "      <th>3</th>\n",
       "      <td>309818</td>\n",
       "      <td>2493122</td>\n",
       "      <td>1216617</td>\n",
       "      <td>pv</td>\n",
       "      <td>2017-11-29</td>\n",
       "      <td>2</td>\n",
       "      <td>20</td>\n",
       "    </tr>\n",
       "    <tr>\n",
       "      <th>4</th>\n",
       "      <td>309818</td>\n",
       "      <td>1461532</td>\n",
       "      <td>3102419</td>\n",
       "      <td>pv</td>\n",
       "      <td>2017-11-30</td>\n",
       "      <td>3</td>\n",
       "      <td>7</td>\n",
       "    </tr>\n",
       "  </tbody>\n",
       "</table>\n",
       "</div>"
      ],
      "text/plain": [
       "   user_id  item_id  category_id status        date  dayofweek  hour\n",
       "0   309818  4710383      1792277     pv  2017-11-29          2    20\n",
       "1   309818  1421743      4069500     pv  2017-11-29          2    20\n",
       "2   309818   800137      1216617     pv  2017-11-29          2    20\n",
       "3   309818  2493122      1216617     pv  2017-11-29          2    20\n",
       "4   309818  1461532      3102419     pv  2017-11-30          3     7"
      ]
     },
     "execution_count": 13,
     "metadata": {},
     "output_type": "execute_result"
    }
   ],
   "source": [
    "users = pd.read_csv('/Users/paxton615/Github_Personal/\\\n",
    "Alibaba_UserBehavior_Analysis/drafts/users_2m.csv')\n",
    "users.drop('Unnamed: 0', axis=1, inplace=True)\n",
    "users.head()"
   ]
  },
  {
   "cell_type": "markdown",
   "metadata": {},
   "source": [
    "#### How many most viewed items end up being bought?"
   ]
  },
  {
   "cell_type": "code",
   "execution_count": 9,
   "metadata": {},
   "outputs": [],
   "source": [
    "# top 20 items been viewed\n",
    "item_viewed = users[users['status']=='pv'][['item_id','user_id']].groupby('item_id')\\\n",
    ".count().sort_values('user_id',ascending=False).head(20)\n",
    "item_viewed.columns=['viewed']\n",
    "item_viewed.reset_index(inplace=True)"
   ]
  },
  {
   "cell_type": "code",
   "execution_count": 10,
   "metadata": {},
   "outputs": [],
   "source": [
    "# top20 items in cart\n",
    "item_cart = users[users['status']=='cart'][['item_id','user_id']].groupby('item_id')\\\n",
    ".count().sort_values('user_id',ascending=False).head(20)\n",
    "item_cart.columns=['cart']\n",
    "item_cart.reset_index(inplace=True)"
   ]
  },
  {
   "cell_type": "code",
   "execution_count": 11,
   "metadata": {},
   "outputs": [],
   "source": [
    "# top20 items in fav\n",
    "item_fav = users[users['status']=='fav'][['item_id','user_id']].groupby('item_id')\\\n",
    ".count().sort_values('user_id',ascending=False).head(20)\n",
    "item_fav.columns = ['fav']\n",
    "item_fav.reset_index(inplace=True)"
   ]
  },
  {
   "cell_type": "code",
   "execution_count": 12,
   "metadata": {},
   "outputs": [],
   "source": [
    "# top 20 items been bought\n",
    "item_bought = users[users['status']=='buy'][['item_id','user_id']].groupby('item_id')\\\n",
    ".count().sort_values('user_id',ascending=False).head(20)\n",
    "item_bought.columns = ['bought']\n",
    "item_bought.reset_index(inplace=True)\n"
   ]
  },
  {
   "cell_type": "code",
   "execution_count": 19,
   "metadata": {
    "scrolled": false
   },
   "outputs": [
    {
     "data": {
      "text/html": [
       "<div>\n",
       "<style scoped>\n",
       "    .dataframe tbody tr th:only-of-type {\n",
       "        vertical-align: middle;\n",
       "    }\n",
       "\n",
       "    .dataframe tbody tr th {\n",
       "        vertical-align: top;\n",
       "    }\n",
       "\n",
       "    .dataframe thead th {\n",
       "        text-align: right;\n",
       "    }\n",
       "</style>\n",
       "<table border=\"1\" class=\"dataframe\">\n",
       "  <thead>\n",
       "    <tr style=\"text-align: right;\">\n",
       "      <th></th>\n",
       "      <th>item_id</th>\n",
       "      <th>viewed</th>\n",
       "      <th>cart</th>\n",
       "      <th>fav</th>\n",
       "      <th>bought</th>\n",
       "    </tr>\n",
       "  </thead>\n",
       "  <tbody>\n",
       "    <tr>\n",
       "      <th>0</th>\n",
       "      <td>812879</td>\n",
       "      <td>822</td>\n",
       "      <td>44.0</td>\n",
       "      <td>24.0</td>\n",
       "      <td>NaN</td>\n",
       "    </tr>\n",
       "    <tr>\n",
       "      <th>1</th>\n",
       "      <td>3845720</td>\n",
       "      <td>640</td>\n",
       "      <td>27.0</td>\n",
       "      <td>22.0</td>\n",
       "      <td>NaN</td>\n",
       "    </tr>\n",
       "    <tr>\n",
       "      <th>2</th>\n",
       "      <td>2032668</td>\n",
       "      <td>595</td>\n",
       "      <td>NaN</td>\n",
       "      <td>23.0</td>\n",
       "      <td>NaN</td>\n",
       "    </tr>\n",
       "    <tr>\n",
       "      <th>3</th>\n",
       "      <td>2331370</td>\n",
       "      <td>562</td>\n",
       "      <td>36.0</td>\n",
       "      <td>30.0</td>\n",
       "      <td>NaN</td>\n",
       "    </tr>\n",
       "    <tr>\n",
       "      <th>4</th>\n",
       "      <td>138964</td>\n",
       "      <td>552</td>\n",
       "      <td>41.0</td>\n",
       "      <td>21.0</td>\n",
       "      <td>NaN</td>\n",
       "    </tr>\n",
       "  </tbody>\n",
       "</table>\n",
       "</div>"
      ],
      "text/plain": [
       "   item_id  viewed  cart   fav  bought\n",
       "0   812879     822  44.0  24.0     NaN\n",
       "1  3845720     640  27.0  22.0     NaN\n",
       "2  2032668     595   NaN  23.0     NaN\n",
       "3  2331370     562  36.0  30.0     NaN\n",
       "4   138964     552  41.0  21.0     NaN"
      ]
     },
     "execution_count": 19,
     "metadata": {},
     "output_type": "execute_result"
    }
   ],
   "source": [
    "# How many matching ones are there among thses four top20s, follow the sequence pv_cart_fav_bought\n",
    "v_c_f_b = item_viewed.merge(item_cart, on='item_id', how='left')\\\n",
    ".merge(item_fav, on='item_id', how='left').merge(item_bought, on='item_id', how='left')\n",
    "v_c_f_b.head()"
   ]
  },
  {
   "cell_type": "markdown",
   "metadata": {},
   "source": [
    "preparation for visual"
   ]
  },
  {
   "cell_type": "code",
   "execution_count": null,
   "metadata": {},
   "outputs": [],
   "source": [
    "# manually making dummies for making graph later\n",
    "# v_c_f_b['viewed_dummy']=np.arange(1,21,1)[::-1]\n",
    "# v_c_f_b['cart_dummy']=[j if np.isnan(i)==False else np.nan for i,j in zip(v_c_f_b['cart'],v_c_f_b['viewed_dummy'])]\n",
    "# v_c_f_b['fav_dummy']=[j if np.isnan(i)==False else np.nan for i,j in zip(v_c_f_b['fav'],v_c_f_b['cart_dummy'])]\n",
    "# v_c_f_b['bought_dummy']=[j if np.isnan(i)==False else np.nan for i,j in zip(v_c_f_b['bought'],v_c_f_b['viewed_dummy'])]"
   ]
  },
  {
   "cell_type": "code",
   "execution_count": null,
   "metadata": {},
   "outputs": [],
   "source": [
    "# for making graph, rearrange cols\n",
    "# v_c_f_b_pic = v_c_f_b[['item_id','viewed_dummy','cart_dummy', 'fav_dummy', 'bought_dummy']]\n",
    "# v_c_f_b_pic=v_c_f_b_pic[['bought_dummy','fav_dummy','cart_dummy','viewed_dummy','item_id']]\n",
    "# v_c_f_b_pic['item_id']=[str(i) for i in v_c_f_b_pic.item_id]"
   ]
  },
  {
   "cell_type": "code",
   "execution_count": null,
   "metadata": {},
   "outputs": [],
   "source": [
    "# pyechart doesn't read np.nan, need 'None'.\n",
    "# v_c_f_b_pic.replace(np.nan,'None',inplace=True)"
   ]
  },
  {
   "cell_type": "code",
   "execution_count": null,
   "metadata": {},
   "outputs": [],
   "source": [
    "# list(v_c_f_b_pic.item_id)"
   ]
  },
  {
   "cell_type": "code",
   "execution_count": null,
   "metadata": {},
   "outputs": [],
   "source": [
    "# v_c_f_b_pic.values"
   ]
  },
  {
   "cell_type": "code",
   "execution_count": 20,
   "metadata": {
    "collapsed": true
   },
   "outputs": [
    {
     "data": {
      "text/html": [
       "\n",
       "        <iframe\n",
       "            width=\"1200\"\n",
       "            height=\"600\"\n",
       "            src=\"./parallel_category.html\"\n",
       "            frameborder=\"0\"\n",
       "            allowfullscreen\n",
       "        ></iframe>\n",
       "        "
      ],
      "text/plain": [
       "<IPython.lib.display.IFrame at 0x121f75208>"
      ]
     },
     "execution_count": 20,
     "metadata": {},
     "output_type": "execute_result"
    }
   ],
   "source": [
    "from pyecharts import options as opts\n",
    "from pyecharts.charts import Parallel\n",
    "from IPython.display import IFrame\n",
    "data = [\n",
    "    ['None', 20.0, 20.0, 20, '812879'],['None', 19.0, 19.0, 19, '3845720'],\n",
    "       ['None', 'None', 'None', 18, '2032668'],['None', 17.0, 17.0, 17, '2331370'],\n",
    "       ['None', 16.0, 16.0, 16, '138964'],['None', 'None', 15.0, 15, '2338453'],\n",
    "       ['None', 'None', 'None', 14, '59883'],['None', 'None', 'None', 13, '4211339'],\n",
    "       ['None', 12.0, 12.0, 12, '1535294'],['None', 'None', 'None', 11, '987143'],\n",
    "       ['None', 10.0, 10.0, 10, '1583704'],[9.0, 9.0, 9.0, 9, '3031354'],\n",
    "       ['None', 'None', 8.0, 8, '4649427'],['None', 7.0, 7.0, 7, '2279428'],\n",
    "       ['None', 6.0, 6.0, 6, '2453685'],['None', 5.0, 5.0, 5, '2818406'],\n",
    "       [4.0, 'None', 4.0, 4, '4443059'],['None', 'None', 'None', 3, '3520504'],\n",
    "       ['None', 'None', 'None', 2, '3371523'],['None', 'None', 'None', 1, '640975']\n",
    "]\n",
    "c = (\n",
    "    Parallel(init_opts=opts.InitOpts(width=\"800px\", height=\"500px\"))\n",
    "    .add_schema(\n",
    "        [\n",
    "            opts.ParallelAxisOpts(dim=0, name=\"bought\",max_=20),\n",
    "            opts.ParallelAxisOpts(dim=1, name=\"fav\"),\n",
    "            opts.ParallelAxisOpts(dim=2, name=\"cart\"),\n",
    "            opts.ParallelAxisOpts(dim=3, name=\"viewed\"),\n",
    "            opts.ParallelAxisOpts(\n",
    "                dim=7,\n",
    "                name=\"item_id\",\n",
    "                type_=\"category\",\n",
    "                data=['812879','3845720','2032668','2331370','138964','2338453',\n",
    " '59883','4211339','1535294','987143','1583704','3031354','4649427','2279428',\n",
    " '2453685','2818406','4443059','3520504','3371523','640975'][::-1]\n",
    "            ),\n",
    "        ]\n",
    "    )\n",
    "    .add(\"\", data)\n",
    "    .set_global_opts(title_opts=opts.TitleOpts(title=\"Top20_most_viewed_items : only two end up been bought\"))\n",
    "    .render(\"parallel_category.html\")\n",
    ")\n",
    "\n",
    "IFrame(src='./parallel_category.html', width=1200, height=600)"
   ]
  },
  {
   "cell_type": "code",
   "execution_count": 23,
   "metadata": {
    "scrolled": false
   },
   "outputs": [
    {
     "data": {
      "image/png": "[encoded data removed]",
      "text/plain": [
       "<IPython.core.display.Image object>"
      ]
     },
     "execution_count": 23,
     "metadata": {},
     "output_type": "execute_result"
    }
   ],
   "source": [
    "Image(filename='/Users/paxton615/Github_Personal/Alibaba_UserBehavior_Analysis/pics/Top20_most_viewed.png')"
   ]
  },
  {
   "cell_type": "markdown",
   "metadata": {},
   "source": [
    "   "
   ]
  },
  {
   "cell_type": "markdown",
   "metadata": {},
   "source": [
    "#### How often does every item been bought?"
   ]
  },
  {
   "cell_type": "code",
   "execution_count": 24,
   "metadata": {},
   "outputs": [
    {
     "data": {
      "text/html": [
       "<div>\n",
       "<style scoped>\n",
       "    .dataframe tbody tr th:only-of-type {\n",
       "        vertical-align: middle;\n",
       "    }\n",
       "\n",
       "    .dataframe tbody tr th {\n",
       "        vertical-align: top;\n",
       "    }\n",
       "\n",
       "    .dataframe thead th {\n",
       "        text-align: right;\n",
       "    }\n",
       "</style>\n",
       "<table border=\"1\" class=\"dataframe\">\n",
       "  <thead>\n",
       "    <tr style=\"text-align: right;\">\n",
       "      <th></th>\n",
       "      <th>item_id</th>\n",
       "      <th>bought_times</th>\n",
       "    </tr>\n",
       "  </thead>\n",
       "  <tbody>\n",
       "    <tr>\n",
       "      <th>27871</th>\n",
       "      <td>3122135</td>\n",
       "      <td>34</td>\n",
       "    </tr>\n",
       "    <tr>\n",
       "      <th>27044</th>\n",
       "      <td>3031354</td>\n",
       "      <td>25</td>\n",
       "    </tr>\n",
       "    <tr>\n",
       "      <th>45727</th>\n",
       "      <td>5140357</td>\n",
       "      <td>23</td>\n",
       "    </tr>\n",
       "    <tr>\n",
       "      <th>26402</th>\n",
       "      <td>2964774</td>\n",
       "      <td>23</td>\n",
       "    </tr>\n",
       "    <tr>\n",
       "      <th>16952</th>\n",
       "      <td>1910706</td>\n",
       "      <td>23</td>\n",
       "    </tr>\n",
       "    <tr>\n",
       "      <th>28470</th>\n",
       "      <td>3189426</td>\n",
       "      <td>20</td>\n",
       "    </tr>\n",
       "    <tr>\n",
       "      <th>22773</th>\n",
       "      <td>2560262</td>\n",
       "      <td>17</td>\n",
       "    </tr>\n",
       "    <tr>\n",
       "      <th>44955</th>\n",
       "      <td>5051027</td>\n",
       "      <td>16</td>\n",
       "    </tr>\n",
       "    <tr>\n",
       "      <th>45060</th>\n",
       "      <td>5062984</td>\n",
       "      <td>16</td>\n",
       "    </tr>\n",
       "    <tr>\n",
       "      <th>29019</th>\n",
       "      <td>3251377</td>\n",
       "      <td>16</td>\n",
       "    </tr>\n",
       "  </tbody>\n",
       "</table>\n",
       "</div>"
      ],
      "text/plain": [
       "       item_id  bought_times\n",
       "27871  3122135            34\n",
       "27044  3031354            25\n",
       "45727  5140357            23\n",
       "26402  2964774            23\n",
       "16952  1910706            23\n",
       "28470  3189426            20\n",
       "22773  2560262            17\n",
       "44955  5051027            16\n",
       "45060  5062984            16\n",
       "29019  3251377            16"
      ]
     },
     "execution_count": 24,
     "metadata": {},
     "output_type": "execute_result"
    }
   ],
   "source": [
    "# how many times each item been bought\n",
    "item_buytimes = users[users['status']=='buy'][['item_id','user_id']]\\\n",
    ".groupby('item_id', as_index=False).count().sort_values('user_id',ascending=False)\n",
    "item_buytimes.columns=['item_id','bought_times']\n",
    "item_buytimes.head(10)"
   ]
  },
  {
   "cell_type": "code",
   "execution_count": 29,
   "metadata": {},
   "outputs": [
    {
     "data": {
      "text/html": [
       "<div>\n",
       "<style scoped>\n",
       "    .dataframe tbody tr th:only-of-type {\n",
       "        vertical-align: middle;\n",
       "    }\n",
       "\n",
       "    .dataframe tbody tr th {\n",
       "        vertical-align: top;\n",
       "    }\n",
       "\n",
       "    .dataframe thead th {\n",
       "        text-align: right;\n",
       "    }\n",
       "</style>\n",
       "<table border=\"1\" class=\"dataframe\">\n",
       "  <thead>\n",
       "    <tr style=\"text-align: right;\">\n",
       "      <th></th>\n",
       "      <th>items</th>\n",
       "    </tr>\n",
       "    <tr>\n",
       "      <th>bought_times</th>\n",
       "      <th></th>\n",
       "    </tr>\n",
       "  </thead>\n",
       "  <tbody>\n",
       "    <tr>\n",
       "      <th>1</th>\n",
       "      <td>38725</td>\n",
       "    </tr>\n",
       "    <tr>\n",
       "      <th>2</th>\n",
       "      <td>4817</td>\n",
       "    </tr>\n",
       "    <tr>\n",
       "      <th>3</th>\n",
       "      <td>1262</td>\n",
       "    </tr>\n",
       "    <tr>\n",
       "      <th>4</th>\n",
       "      <td>501</td>\n",
       "    </tr>\n",
       "    <tr>\n",
       "      <th>5</th>\n",
       "      <td>237</td>\n",
       "    </tr>\n",
       "    <tr>\n",
       "      <th>6</th>\n",
       "      <td>126</td>\n",
       "    </tr>\n",
       "    <tr>\n",
       "      <th>7</th>\n",
       "      <td>97</td>\n",
       "    </tr>\n",
       "    <tr>\n",
       "      <th>8</th>\n",
       "      <td>50</td>\n",
       "    </tr>\n",
       "    <tr>\n",
       "      <th>9</th>\n",
       "      <td>37</td>\n",
       "    </tr>\n",
       "    <tr>\n",
       "      <th>10</th>\n",
       "      <td>18</td>\n",
       "    </tr>\n",
       "    <tr>\n",
       "      <th>11</th>\n",
       "      <td>13</td>\n",
       "    </tr>\n",
       "    <tr>\n",
       "      <th>12</th>\n",
       "      <td>17</td>\n",
       "    </tr>\n",
       "    <tr>\n",
       "      <th>13</th>\n",
       "      <td>9</td>\n",
       "    </tr>\n",
       "    <tr>\n",
       "      <th>14</th>\n",
       "      <td>3</td>\n",
       "    </tr>\n",
       "    <tr>\n",
       "      <th>15</th>\n",
       "      <td>8</td>\n",
       "    </tr>\n",
       "    <tr>\n",
       "      <th>16</th>\n",
       "      <td>4</td>\n",
       "    </tr>\n",
       "    <tr>\n",
       "      <th>17</th>\n",
       "      <td>1</td>\n",
       "    </tr>\n",
       "    <tr>\n",
       "      <th>20</th>\n",
       "      <td>1</td>\n",
       "    </tr>\n",
       "    <tr>\n",
       "      <th>23</th>\n",
       "      <td>3</td>\n",
       "    </tr>\n",
       "    <tr>\n",
       "      <th>25</th>\n",
       "      <td>1</td>\n",
       "    </tr>\n",
       "    <tr>\n",
       "      <th>34</th>\n",
       "      <td>1</td>\n",
       "    </tr>\n",
       "  </tbody>\n",
       "</table>\n",
       "</div>"
      ],
      "text/plain": [
       "              items\n",
       "bought_times       \n",
       "1             38725\n",
       "2              4817\n",
       "3              1262\n",
       "4               501\n",
       "5               237\n",
       "6               126\n",
       "7                97\n",
       "8                50\n",
       "9                37\n",
       "10               18\n",
       "11               13\n",
       "12               17\n",
       "13                9\n",
       "14                3\n",
       "15                8\n",
       "16                4\n",
       "17                1\n",
       "20                1\n",
       "23                3\n",
       "25                1\n",
       "34                1"
      ]
     },
     "execution_count": 29,
     "metadata": {},
     "output_type": "execute_result"
    }
   ],
   "source": [
    "# There are 38725 kinds of iterms that only been bought once\n",
    "# only one item was repeatively bought 34 times\n",
    "item_buytimes.groupby('bought_times').count().rename(columns={'item_id':'items'})\n"
   ]
  },
  {
   "cell_type": "code",
   "execution_count": 31,
   "metadata": {
    "collapsed": true
   },
   "outputs": [
    {
     "data": {
      "text/html": [
       "\n",
       "        <iframe\n",
       "            width=\"1200\"\n",
       "            height=\"600\"\n",
       "            src=\"./bar_reversal_axis.html\"\n",
       "            frameborder=\"0\"\n",
       "            allowfullscreen\n",
       "        ></iframe>\n",
       "        "
      ],
      "text/plain": [
       "<IPython.lib.display.IFrame at 0x121f75358>"
      ]
     },
     "execution_count": 31,
     "metadata": {},
     "output_type": "execute_result"
    }
   ],
   "source": [
    "from pyecharts import options as opts\n",
    "from pyecharts.charts import Bar\n",
    "from IPython.display import IFrame\n",
    "c = (\n",
    "    Bar()\n",
    "    .add_xaxis(['bought once','bought twice','three times','four times','five times',\n",
    "               'six times','seven times','eight times','nine times','ten times'][::-1])\n",
    "    .add_yaxis(\"\", [38725, 4817, 1262, 501, 237, 126, 97, 50, 37, 18][::-1])\n",
    "    .reversal_axis()\n",
    "    .set_series_opts(label_opts=opts.LabelOpts(position=\"right\"))\n",
    "    .set_global_opts(title_opts=opts.TitleOpts(title=\"Times of eath item been bought\"))\n",
    "    .render(\"bar_reversal_axis.html\")\n",
    ")\n",
    "IFrame(src='./bar_reversal_axis.html', width=1200, height=600)\n"
   ]
  },
  {
   "cell_type": "code",
   "execution_count": 32,
   "metadata": {},
   "outputs": [
    {
     "data": {
      "image/png": "[encoded data removed]",
      "text/plain": [
       "<IPython.core.display.Image object>"
      ]
     },
     "execution_count": 32,
     "metadata": {},
     "output_type": "execute_result"
    }
   ],
   "source": [
    "Image(filename='/Users/paxton615/Github_Personal/Alibaba_UserBehavior_Analysis/pics/Times of eath item been bought.png')"
   ]
  },
  {
   "cell_type": "markdown",
   "metadata": {},
   "source": [
    "#### There are 38725 iterms only been bought once which can be seen as a long tail. This means that significant profits come from selling low volumes of hard-to-find items to many customers."
   ]
  }
 ],
 "metadata": {
  "kernelspec": {
   "display_name": "Python 3",
   "language": "python",
   "name": "python3"
  },
  "language_info": {
   "codemirror_mode": {
    "name": "ipython",
    "version": 3
   },
   "file_extension": ".py",
   "mimetype": "text/x-python",
   "name": "python",
   "nbconvert_exporter": "python",
   "pygments_lexer": "ipython3",
   "version": "3.7.3"
  }
 },
 "nbformat": 4,
 "nbformat_minor": 2
}
